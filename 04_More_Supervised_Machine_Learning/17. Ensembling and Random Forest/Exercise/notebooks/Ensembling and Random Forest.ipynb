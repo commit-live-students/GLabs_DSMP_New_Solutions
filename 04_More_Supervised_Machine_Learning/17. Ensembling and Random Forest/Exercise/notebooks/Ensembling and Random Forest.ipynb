{
 "cells": [
  {
   "cell_type": "code",
   "execution_count": null,
   "metadata": {},
   "outputs": [],
   "source": [
    "!pip install mlxtend"
   ]
  },
  {
   "cell_type": "code",
   "execution_count": 26,
   "metadata": {},
   "outputs": [],
   "source": [
    "# Importing necessary packages\n",
    "import pandas as pd\n",
    "import numpy as np\n",
    "import matplotlib.pyplot as plt\n",
    "%matplotlib inline\n",
    "from sklearn.model_selection import train_test_split, GridSearchCV\n",
    "from sklearn.ensemble import RandomForestClassifier, RandomForestRegressor\n",
    "from sklearn.metrics import accuracy_score, roc_auc_score, make_scorer,mean_squared_error,r2_score\n",
    "from sklearn.preprocessing import LabelEncoder\n",
    "from sklearn.ensemble import GradientBoostingRegressor,BaggingRegressor\n",
    "from sklearn.linear_model import LinearRegression\n",
    "import math\n",
    "from mlxtend.regressor import StackingRegressor\n",
    "import warnings\n",
    "warnings.filterwarnings(\"ignore\")"
   ]
  },
  {
   "cell_type": "code",
   "execution_count": 35,
   "metadata": {},
   "outputs": [
    {
     "data": {
      "text/html": [
       "<div>\n",
       "<style scoped>\n",
       "    .dataframe tbody tr th:only-of-type {\n",
       "        vertical-align: middle;\n",
       "    }\n",
       "\n",
       "    .dataframe tbody tr th {\n",
       "        vertical-align: top;\n",
       "    }\n",
       "\n",
       "    .dataframe thead th {\n",
       "        text-align: right;\n",
       "    }\n",
       "</style>\n",
       "<table border=\"1\" class=\"dataframe\">\n",
       "  <thead>\n",
       "    <tr style=\"text-align: right;\">\n",
       "      <th></th>\n",
       "      <th>Serial No.</th>\n",
       "      <th>GRE Score</th>\n",
       "      <th>TOEFL Score</th>\n",
       "      <th>University Rating</th>\n",
       "      <th>SOP</th>\n",
       "      <th>LOR</th>\n",
       "      <th>CGPA</th>\n",
       "      <th>Research</th>\n",
       "      <th>Chance of Admit</th>\n",
       "    </tr>\n",
       "  </thead>\n",
       "  <tbody>\n",
       "    <tr>\n",
       "      <th>0</th>\n",
       "      <td>1</td>\n",
       "      <td>337</td>\n",
       "      <td>118</td>\n",
       "      <td>4</td>\n",
       "      <td>4.5</td>\n",
       "      <td>4.5</td>\n",
       "      <td>9.65</td>\n",
       "      <td>1</td>\n",
       "      <td>0.92</td>\n",
       "    </tr>\n",
       "    <tr>\n",
       "      <th>1</th>\n",
       "      <td>2</td>\n",
       "      <td>324</td>\n",
       "      <td>107</td>\n",
       "      <td>4</td>\n",
       "      <td>4.0</td>\n",
       "      <td>4.5</td>\n",
       "      <td>8.87</td>\n",
       "      <td>1</td>\n",
       "      <td>0.76</td>\n",
       "    </tr>\n",
       "    <tr>\n",
       "      <th>2</th>\n",
       "      <td>3</td>\n",
       "      <td>316</td>\n",
       "      <td>104</td>\n",
       "      <td>3</td>\n",
       "      <td>3.0</td>\n",
       "      <td>3.5</td>\n",
       "      <td>8.00</td>\n",
       "      <td>1</td>\n",
       "      <td>0.72</td>\n",
       "    </tr>\n",
       "    <tr>\n",
       "      <th>3</th>\n",
       "      <td>4</td>\n",
       "      <td>322</td>\n",
       "      <td>110</td>\n",
       "      <td>3</td>\n",
       "      <td>3.5</td>\n",
       "      <td>2.5</td>\n",
       "      <td>8.67</td>\n",
       "      <td>1</td>\n",
       "      <td>0.80</td>\n",
       "    </tr>\n",
       "    <tr>\n",
       "      <th>4</th>\n",
       "      <td>5</td>\n",
       "      <td>314</td>\n",
       "      <td>103</td>\n",
       "      <td>2</td>\n",
       "      <td>2.0</td>\n",
       "      <td>3.0</td>\n",
       "      <td>8.21</td>\n",
       "      <td>0</td>\n",
       "      <td>0.65</td>\n",
       "    </tr>\n",
       "  </tbody>\n",
       "</table>\n",
       "</div>"
      ],
      "text/plain": [
       "   Serial No.  GRE Score  TOEFL Score  University Rating  SOP  LOR   CGPA  \\\n",
       "0           1        337          118                  4  4.5   4.5  9.65   \n",
       "1           2        324          107                  4  4.0   4.5  8.87   \n",
       "2           3        316          104                  3  3.0   3.5  8.00   \n",
       "3           4        322          110                  3  3.5   2.5  8.67   \n",
       "4           5        314          103                  2  2.0   3.0  8.21   \n",
       "\n",
       "   Research  Chance of Admit  \n",
       "0         1             0.92  \n",
       "1         1             0.76  \n",
       "2         1             0.72  \n",
       "3         1             0.80  \n",
       "4         0             0.65  "
      ]
     },
     "execution_count": 35,
     "metadata": {},
     "output_type": "execute_result"
    }
   ],
   "source": [
    "#Loading the house prices dataset for the mini-challenge\n",
    "df = pd.read_csv('graduate-admissions/Admission_Predict.csv')\n",
    "df=df.rename(columns = {'Chance of Admit ':'Chance of Admit'})\n",
    "df.head()"
   ]
  },
  {
   "cell_type": "markdown",
   "metadata": {},
   "source": [
    "# Ensemble Methods"
   ]
  },
  {
   "cell_type": "markdown",
   "metadata": {},
   "source": [
    "<img src=\"../images/icon/ppt-icons.png\" alt=\"Concept-Alert\" style=\"width: 100px;float:left; margin-right:15px\"/>\n",
    "<br /> \n",
    "##  Mini-Challenge - 1\n",
    "***\n",
    "### Instructions\n",
    "* Split the dataset into features and target variable(`Chance of Admit`) then split it into train and test."
   ]
  },
  {
   "cell_type": "code",
   "execution_count": 36,
   "metadata": {},
   "outputs": [],
   "source": [
    "X = df.drop('Chance of Admit',axis=1)\n",
    "y = df['Chance of Admit'].copy()\n",
    "X_train,X_test,y_train,y_test = train_test_split(X,y)"
   ]
  },
  {
   "cell_type": "markdown",
   "metadata": {},
   "source": [
    "<img src=\"../images/icon/ppt-icons.png\" alt=\"Concept-Alert\" style=\"width: 100px;float:left; margin-right:15px\"/>\n",
    "<br /> \n",
    "##  Mini-Challenge - 2\n",
    "***\n",
    "### Instructions\n",
    "### Decision Tree\n",
    "* Fit a Decision tree model on the above data and predict on the test data and calculate the r2 score"
   ]
  },
  {
   "cell_type": "code",
   "execution_count": 37,
   "metadata": {},
   "outputs": [
    {
     "name": "stdout",
     "output_type": "stream",
     "text": [
      "r_square score:  0.7255076770678552\n"
     ]
    }
   ],
   "source": [
    "from sklearn.tree import DecisionTreeRegressor\n",
    "des_regressor = DecisionTreeRegressor(random_state=9)\n",
    "des_regressor.fit(X_train,y_train)\n",
    "y_pred_des = des_regressor.predict(X_test)\n",
    "print(\"r_square score: \", r2_score(y_test,y_pred_des))"
   ]
  },
  {
   "cell_type": "markdown",
   "metadata": {},
   "source": [
    "<img src=\"../images/icon/ppt-icons.png\" alt=\"Concept-Alert\" style=\"width: 100px;float:left; margin-right:15px\"/>\n",
    "<br /> \n",
    "\n",
    "##  Mini-Challenge - 3\n",
    "***\n",
    "### Instructions\n",
    "### Bagging\n",
    "* Fit a Bagging model(i.e resampling with replacement) on the above data and predict on the test data and calculate the r2 score.Pass the parameter `base_estimator= DecisionTreeRegressor()`, `n_estimators=20` , `max_samples=100` and `random_state=0`"
   ]
  },
  {
   "cell_type": "code",
   "execution_count": 38,
   "metadata": {},
   "outputs": [
    {
     "name": "stdout",
     "output_type": "stream",
     "text": [
      "r_square score:  0.8074589004457653\n"
     ]
    }
   ],
   "source": [
    "from sklearn.tree import DecisionTreeRegressor\n",
    "bag_regressor = BaggingRegressor(base_estimator= DecisionTreeRegressor(), n_estimators=100 , max_samples=100 , random_state=9)\n",
    "bag_regressor.fit(X_train,y_train)\n",
    "y_pred_bag = bag_regressor.predict(X_test)\n",
    "print(\"r_square score: \", r2_score(y_test,y_pred_bag))"
   ]
  },
  {
   "cell_type": "markdown",
   "metadata": {},
   "source": [
    "<img src=\"../images/icon/ppt-icons.png\" alt=\"Concept-Alert\" style=\"width: 100px;float:left; margin-right:15px\"/>\n",
    "<br /> \n",
    "\n",
    "##  Mini-Challenge - 4\n",
    "***\n",
    "### Instructions\n",
    "### Pasting\n",
    "* Fit a Bagging model(i.e resampling without replacement) on the above data and predict on the test data and calculate the r2 score. Pass the parameter `base_estimator= DecisionTreeRegressor`, `n_estimators=100` , `max_samples=100`, `bootstrap=False` and `random_state=0`"
   ]
  },
  {
   "cell_type": "code",
   "execution_count": 39,
   "metadata": {},
   "outputs": [
    {
     "name": "stdout",
     "output_type": "stream",
     "text": [
      "r_square score:  0.8136994502228827\n"
     ]
    }
   ],
   "source": [
    "from sklearn.tree import DecisionTreeRegressor\n",
    "bag_regressor_pa = BaggingRegressor(base_estimator= DecisionTreeRegressor(), n_estimators=100 , max_samples=100 ,bootstrap=False, random_state=9)\n",
    "bag_regressor_pa.fit(X_train,y_train)\n",
    "y_pred_bag_pa = bag_regressor_pa.predict(X_test)\n",
    "print(\"r_square score: \", r2_score(y_test,y_pred_bag_pa))"
   ]
  },
  {
   "cell_type": "markdown",
   "metadata": {},
   "source": [
    "<img src=\"../images/icon/ppt-icons.png\" alt=\"Concept-Alert\" style=\"width: 100px;float:left; margin-right:15px\"/>\n",
    "<br /> \n",
    "##  Mini-Challenge - 5\n",
    "***\n",
    "### Instructions\n",
    "### Random Forest\n",
    "* Fit a Random Forest regressor on the above data and predict on the test data and calculate the r2 score. Pass the parameter `random_state=9`"
   ]
  },
  {
   "cell_type": "code",
   "execution_count": 40,
   "metadata": {},
   "outputs": [
    {
     "name": "stdout",
     "output_type": "stream",
     "text": [
      "r_square score:  0.806088657751362\n"
     ]
    }
   ],
   "source": [
    "rf_clf = RandomForestRegressor(random_state=9)\n",
    "rf_clf.fit(X_train,y_train)\n",
    "rf_y_pred =  rf_clf.predict(X_test)\n",
    "print(\"r_square score: \", r2_score(y_test,rf_y_pred))"
   ]
  },
  {
   "cell_type": "markdown",
   "metadata": {},
   "source": [
    "<img src=\"../images/icon/ppt-icons.png\" alt=\"Concept-Alert\" style=\"width: 100px;float:left; margin-right:15px\"/>\n",
    "<br /> \n",
    "\n",
    "##  Mini-Challenge - 6\n",
    "***\n",
    "### Instructions\n",
    "### Random Forest tuned with GridSearchCV\n",
    "* Fit a RandomForest Regressor with `random_state=9` and tune the parameters using GridSearchCV. Search for the best set of features amongst the following list of features and their value.`'n_estimators': [10,20,30],'max_depth': [6,8],'min_samples_split': [6,8]`"
   ]
  },
  {
   "cell_type": "code",
   "execution_count": 41,
   "metadata": {},
   "outputs": [
    {
     "name": "stdout",
     "output_type": "stream",
     "text": [
      "r_square score:  0.8196488360574541\n"
     ]
    }
   ],
   "source": [
    "#RandomForestRegressor tuned using GridSearchCV\n",
    "regressor = RandomForestRegressor(random_state=9)\n",
    "params = {\n",
    "            'n_estimators': [10,20,30],\n",
    "            'min_samples_split': [2,4,6]\n",
    "             }\n",
    "\n",
    "search = GridSearchCV(regressor,param_grid=params)\n",
    "search.fit(X_train,y_train)\n",
    "\n",
    "y_pred_grid = search.predict(X_test)\n",
    "print(\"r_square score: \", r2_score(y_test,y_pred_grid))"
   ]
  },
  {
   "cell_type": "markdown",
   "metadata": {},
   "source": [
    "<img src=\"../images/icon/ppt-icons.png\" alt=\"Concept-Alert\" style=\"width: 100px;float:left; margin-right:15px\"/>\n",
    "<br /> \n",
    "\n",
    "##  Mini-Challenge - 7\n",
    "***\n",
    "### Instructions\n",
    "### Stacking\n",
    "* Stack the below models(i.e `regressor1,regressor2,regressor3,regressor4`) and predict on the test data.\n",
    "* Use the Stacking() from mlxtend to initialize a stacking Regressor object. Pass the `regressor_list` to parameter `regressors` and `lin_reg` as `meta_regressor` parameter , while initializing the object."
   ]
  },
  {
   "cell_type": "code",
   "execution_count": 54,
   "metadata": {},
   "outputs": [
    {
     "name": "stdout",
     "output_type": "stream",
     "text": [
      "r_square score:  0.7301355869242201\n"
     ]
    }
   ],
   "source": [
    "lin_reg = LinearRegression()\n",
    "\n",
    "\n",
    "regressor1 = DecisionTreeRegressor(random_state=0)\n",
    "regressor2= DecisionTreeRegressor(random_state=1)\n",
    "regressor3 = DecisionTreeRegressor(random_state=2)\n",
    "regressor4= DecisionTreeRegressor(random_state=9)\n",
    "regressor_list=[regressor1,regressor2,regressor3,regressor4]\n",
    "\n",
    "\n",
    "stacking_regressor = StackingRegressor(regressors=regressor_list,meta_regressor=lin_reg)\n",
    "stacking_regressor.fit(X_train, y_train)\n",
    "y_pred_stack = stacking_regressor.predict(X_test)\n",
    "print(\"r_square score: \", r2_score(y_test,y_pred_stack))"
   ]
  },
  {
   "cell_type": "markdown",
   "metadata": {},
   "source": [
    "\n",
    "|Model|R2 Score|\n",
    "|-----|-----|\n",
    "|Base Decision Tree |0.73|\n",
    "|Bagging with Replacement|0.81|\n",
    "|Bagging without Replacement(pasting)|0.81|\n",
    "|Random Forest|0.81|\n",
    "|Random Forest with GridSearchCV|0.82|\n",
    "|Stacking|0.73|"
   ]
  },
  {
   "cell_type": "code",
   "execution_count": null,
   "metadata": {},
   "outputs": [],
   "source": []
  }
 ],
 "metadata": {
  "kernelspec": {
   "display_name": "Python 3",
   "language": "python",
   "name": "python3"
  },
  "language_info": {
   "codemirror_mode": {
    "name": "ipython",
    "version": 3
   },
   "file_extension": ".py",
   "mimetype": "text/x-python",
   "name": "python",
   "nbconvert_exporter": "python",
   "pygments_lexer": "ipython3",
   "version": "3.6.5"
  }
 },
 "nbformat": 4,
 "nbformat_minor": 2
}
