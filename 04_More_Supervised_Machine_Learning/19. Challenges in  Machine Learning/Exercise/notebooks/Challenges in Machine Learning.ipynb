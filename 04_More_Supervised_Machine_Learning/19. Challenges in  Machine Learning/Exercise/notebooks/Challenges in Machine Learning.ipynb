{
 "cells": [
  {
   "cell_type": "markdown",
   "metadata": {},
   "source": [
    "## <center>Challenges in Machine Learning</center>"
   ]
  },
  {
   "cell_type": "code",
   "execution_count": 2,
   "metadata": {},
   "outputs": [
    {
     "data": {
      "text/html": [
       "<iframe src=\"https://player.vimeo.com/video/280701877\" width=\"800\" height=\"600\" frameborder=\"0\" webkitallowfullscreen mozallowfullscreen allowfullscreen></iframe>"
      ],
      "text/plain": [
       "<IPython.core.display.HTML object>"
      ]
     },
     "execution_count": 2,
     "metadata": {},
     "output_type": "execute_result"
    }
   ],
   "source": [
    "\n",
    "from IPython.display import HTML\n",
    "\n",
    "HTML('<iframe src=\"https://player.vimeo.com/video/280701877\" width=\"800\" height=\"600\" frameborder=\"0\" webkitallowfullscreen mozallowfullscreen allowfullscreen></iframe>'\n",
    ")\n"
   ]
  },
  {
   "cell_type": "code",
   "execution_count": 1,
   "metadata": {},
   "outputs": [],
   "source": [
    "import pandas as pd\n",
    "import numpy as np\n",
    "import seaborn as sns\n",
    "import matplotlib.pyplot as plt\n",
    "from sklearn.ensemble import RandomForestClassifier\n",
    "from sklearn.metrics import f1_score, confusion_matrix\n",
    "from sklearn.metrics import precision_score, recall_score, accuracy_score\n",
    "from sklearn.metrics import roc_auc_score\n",
    "from sklearn.model_selection import train_test_split\n",
    "from sklearn.linear_model import LogisticRegression\n",
    "from sklearn.tree import DecisionTreeClassifier\n",
    "from sklearn.svm import SVC\n",
    "from imblearn.over_sampling import SMOTE\n",
    "from imblearn.datasets import fetch_datasets\n",
    "import warnings\n",
    "warnings.filterwarnings(\"ignore\")"
   ]
  },
  {
   "cell_type": "code",
   "execution_count": 59,
   "metadata": {},
   "outputs": [
    {
     "data": {
      "text/html": [
       "<div>\n",
       "<style scoped>\n",
       "    .dataframe tbody tr th:only-of-type {\n",
       "        vertical-align: middle;\n",
       "    }\n",
       "\n",
       "    .dataframe tbody tr th {\n",
       "        vertical-align: top;\n",
       "    }\n",
       "\n",
       "    .dataframe thead th {\n",
       "        text-align: right;\n",
       "    }\n",
       "</style>\n",
       "<table border=\"1\" class=\"dataframe\">\n",
       "  <thead>\n",
       "    <tr style=\"text-align: right;\">\n",
       "      <th></th>\n",
       "      <th>fixed_acidity</th>\n",
       "      <th>volatile_acidity</th>\n",
       "      <th>citric_acid</th>\n",
       "      <th>residual_sugar</th>\n",
       "      <th>chlorides</th>\n",
       "      <th>free_sulfur_dioxide</th>\n",
       "      <th>total_sulfur_dioxide</th>\n",
       "      <th>density</th>\n",
       "      <th>pH</th>\n",
       "      <th>sulphates</th>\n",
       "      <th>alcohol</th>\n",
       "      <th>quality</th>\n",
       "    </tr>\n",
       "  </thead>\n",
       "  <tbody>\n",
       "    <tr>\n",
       "      <th>0</th>\n",
       "      <td>7.0</td>\n",
       "      <td>0.27</td>\n",
       "      <td>0.36</td>\n",
       "      <td>20.7</td>\n",
       "      <td>0.045</td>\n",
       "      <td>45.0</td>\n",
       "      <td>170.0</td>\n",
       "      <td>1.0010</td>\n",
       "      <td>3.00</td>\n",
       "      <td>0.45</td>\n",
       "      <td>8.8</td>\n",
       "      <td>0</td>\n",
       "    </tr>\n",
       "    <tr>\n",
       "      <th>1</th>\n",
       "      <td>6.3</td>\n",
       "      <td>0.30</td>\n",
       "      <td>0.34</td>\n",
       "      <td>1.6</td>\n",
       "      <td>0.049</td>\n",
       "      <td>14.0</td>\n",
       "      <td>132.0</td>\n",
       "      <td>0.9940</td>\n",
       "      <td>3.30</td>\n",
       "      <td>0.49</td>\n",
       "      <td>9.5</td>\n",
       "      <td>0</td>\n",
       "    </tr>\n",
       "    <tr>\n",
       "      <th>2</th>\n",
       "      <td>8.1</td>\n",
       "      <td>0.28</td>\n",
       "      <td>0.40</td>\n",
       "      <td>6.9</td>\n",
       "      <td>0.050</td>\n",
       "      <td>30.0</td>\n",
       "      <td>97.0</td>\n",
       "      <td>0.9951</td>\n",
       "      <td>3.26</td>\n",
       "      <td>0.44</td>\n",
       "      <td>10.1</td>\n",
       "      <td>0</td>\n",
       "    </tr>\n",
       "    <tr>\n",
       "      <th>3</th>\n",
       "      <td>7.2</td>\n",
       "      <td>0.23</td>\n",
       "      <td>0.32</td>\n",
       "      <td>8.5</td>\n",
       "      <td>0.058</td>\n",
       "      <td>47.0</td>\n",
       "      <td>186.0</td>\n",
       "      <td>0.9956</td>\n",
       "      <td>3.19</td>\n",
       "      <td>0.40</td>\n",
       "      <td>9.9</td>\n",
       "      <td>0</td>\n",
       "    </tr>\n",
       "    <tr>\n",
       "      <th>4</th>\n",
       "      <td>7.2</td>\n",
       "      <td>0.23</td>\n",
       "      <td>0.32</td>\n",
       "      <td>8.5</td>\n",
       "      <td>0.058</td>\n",
       "      <td>47.0</td>\n",
       "      <td>186.0</td>\n",
       "      <td>0.9956</td>\n",
       "      <td>3.19</td>\n",
       "      <td>0.40</td>\n",
       "      <td>9.9</td>\n",
       "      <td>0</td>\n",
       "    </tr>\n",
       "  </tbody>\n",
       "</table>\n",
       "</div>"
      ],
      "text/plain": [
       "   fixed_acidity  volatile_acidity  citric_acid  residual_sugar  chlorides  \\\n",
       "0            7.0              0.27         0.36            20.7      0.045   \n",
       "1            6.3              0.30         0.34             1.6      0.049   \n",
       "2            8.1              0.28         0.40             6.9      0.050   \n",
       "3            7.2              0.23         0.32             8.5      0.058   \n",
       "4            7.2              0.23         0.32             8.5      0.058   \n",
       "\n",
       "   free_sulfur_dioxide  total_sulfur_dioxide  density    pH  sulphates  \\\n",
       "0                 45.0                 170.0   1.0010  3.00       0.45   \n",
       "1                 14.0                 132.0   0.9940  3.30       0.49   \n",
       "2                 30.0                  97.0   0.9951  3.26       0.44   \n",
       "3                 47.0                 186.0   0.9956  3.19       0.40   \n",
       "4                 47.0                 186.0   0.9956  3.19       0.40   \n",
       "\n",
       "   alcohol  quality  \n",
       "0      8.8        0  \n",
       "1      9.5        0  \n",
       "2     10.1        0  \n",
       "3      9.9        0  \n",
       "4      9.9        0  "
      ]
     },
     "execution_count": 59,
     "metadata": {},
     "output_type": "execute_result"
    }
   ],
   "source": [
    "#Loading the wine quality data for mini-challenge and splitting it into train & test.\n",
    "df =  pd.read_csv(\"../data/Wine_quality.csv\")\n",
    "df.head()"
   ]
  },
  {
   "cell_type": "markdown",
   "metadata": {},
   "source": [
    "<img src=\"../images/icon/ppt-icons.png\" alt=\"Concept-Alert\" style=\"width: 100px;float:left; margin-right:15px\"/>\n",
    "<br /> \n",
    "\n",
    "##  Mini-Challenge - 1\n",
    "***\n",
    "### Print out the distribution percentage of the classes."
   ]
  },
  {
   "cell_type": "code",
   "execution_count": 60,
   "metadata": {},
   "outputs": [
    {
     "name": "stdout",
     "output_type": "stream",
     "text": [
      "Bad Quality Wine 96.26 % of the dataset\n",
      "Good Quality Wine 3.74 % of the dataset\n"
     ]
    }
   ],
   "source": [
    "# The classes are heavily skewed we need to solve this issue later.\n",
    "print('Bad Quality Wine', round(df['quality'].value_counts()[0]/len(df) * 100,2), '% of the dataset')\n",
    "print('Good Quality Wine', round(df['quality'].value_counts()[1]/len(df) * 100,2), '% of the dataset')"
   ]
  },
  {
   "cell_type": "markdown",
   "metadata": {},
   "source": [
    "**Note: Notice how imbalanced is our original dataset! Most of the wines sample are Bad Quality. If we use this dataframe as the base for our predictive models and analysis we might get a lot of errors and our algorithms will probably overfit since it will \"assume\" that most of the wines are Bad Quality. But we don't want our model to assume, we want our model to detect patterns that give signs of Good Quality Wine(In other words we need to make sure that bad wines should not be predicted as good ones.)!**"
   ]
  },
  {
   "cell_type": "markdown",
   "metadata": {},
   "source": [
    "<img src=\"../images/icon/ppt-icons.png\" alt=\"Concept-Alert\" style=\"width: 100px;float:left; margin-right:15px\"/>\n",
    "<br /> \n",
    "\n",
    "##  Mini-Challenge - 2\n",
    "***\n",
    "### Check for class imbalance using a count plot."
   ]
  },
  {
   "cell_type": "code",
   "execution_count": 61,
   "metadata": {},
   "outputs": [
    {
     "data": {
      "text/plain": [
       "<matplotlib.axes._subplots.AxesSubplot at 0x1d4f9a4e358>"
      ]
     },
     "execution_count": 61,
     "metadata": {},
     "output_type": "execute_result"
    },
    {
     "data": {
      "image/png": "[encoded data removed]",
      "text/plain": [
       "<Figure size 432x288 with 1 Axes>"
      ]
     },
     "metadata": {
      "needs_background": "light"
     },
     "output_type": "display_data"
    }
   ],
   "source": [
    "sns.countplot('quality', data=df)"
   ]
  },
  {
   "cell_type": "markdown",
   "metadata": {},
   "source": [
    "**Distributions: By seeing the distributions we can have an idea how skewed are these features. There are techniques that can help the distributions be less skewed which will be implemented in this notebook.**"
   ]
  },
  {
   "cell_type": "markdown",
   "metadata": {},
   "source": [
    "<img src=\"../images/icon/ppt-icons.png\" alt=\"Concept-Alert\" style=\"width: 100px;float:left; margin-right:15px\"/>\n",
    "<br /> \n",
    "\n",
    "##  Mini-Challenge - 3\n",
    "***\n",
    "* Store the independent attributes in the X variable and dependent variable(`quality`) in y and split X and y into X_train,X_test,y_train,y_test with `random_state=2`\n",
    "* Fit a Random forest classifier model with random_state=42 on the imbalanced data. Find out the f1-score, precision score, recall score, roc-auc score, confusion matrix and accuracy score."
   ]
  },
  {
   "cell_type": "code",
   "execution_count": 62,
   "metadata": {},
   "outputs": [
    {
     "name": "stdout",
     "output_type": "stream",
     "text": [
      "Accuracy Score:   0.9640816326530612\n",
      "Recall:           0.13953488372093023\n",
      "Precision Score:  0.46153846153846156\n",
      "F1 Score:         0.21428571428571427\n",
      "Confusion Matrix: \n",
      " [[1175    7]\n",
      " [  37    6]]\n"
     ]
    }
   ],
   "source": [
    "X = df.drop('quality', axis=1)\n",
    "y = df['quality']\n",
    "\n",
    "X_train, X_test, y_train, y_test = train_test_split(X, y,random_state=2)\n",
    "rf_classifier_bal = RandomForestClassifier(random_state=42)\n",
    "rf_classifier_bal.fit(X_train,y_train)\n",
    "y_pred = rf_classifier_bal.predict(X_test)\n",
    "\n",
    "accuracy = rf_classifier_bal.score(X_test,y_test)\n",
    "print(\"Accuracy Score:  \",accuracy)\n",
    "\n",
    "recall = recall_score(y_test,y_pred)\n",
    "print(\"Recall:          \",recall)\n",
    "\n",
    "precision = precision_score(y_test,y_pred)\n",
    "print('Precision Score: ',precision)\n",
    "\n",
    "f1 = f1_score(y_test,y_pred)\n",
    "print(\"F1 Score:        \",f1)\n",
    "\n",
    "confusion_mat =confusion_matrix(y_test,y_pred)\n",
    "print(\"Confusion Matrix: \\n\",confusion_mat)"
   ]
  },
  {
   "cell_type": "markdown",
   "metadata": {},
   "source": [
    "<img src=\"../images/icon/ppt-icons.png\" alt=\"Concept-Alert\" style=\"width: 100px;float:left; margin-right:15px\"/>\n",
    "<br /> \n",
    "\n",
    "##  Mini-Challenge - 4\n",
    "***\n",
    "###  In above challenge we got an accuracy of 0.96 but we can see our recall is 0.13 which is very less. Lets try to improve the recall/F1 score. \n",
    "**Let's now try to see if random undersampling will improve the performance of our ML model**\n",
    "* Implement undersampling using random_under_sampler of imblearn with random_state =42.\n",
    "* And then, Fit a random forest classifier model with random_state=42 on the balanced data. Find out the f1-score, precision score, recall score, roc-auc score, confusion matrix and accuracy score."
   ]
  },
  {
   "cell_type": "code",
   "execution_count": 63,
   "metadata": {},
   "outputs": [
    {
     "name": "stdout",
     "output_type": "stream",
     "text": [
      "Accuracy Score:   0.7828571428571428\n",
      "Recall:           0.7441860465116279\n",
      "Precision Score:  0.11149825783972125\n",
      "F1 Score:         0.19393939393939394\n",
      "Confusion Matrix: \n",
      " [[927 255]\n",
      " [ 11  32]]\n"
     ]
    }
   ],
   "source": [
    "from imblearn.under_sampling import RandomUnderSampler\n",
    "# Code starts here\n",
    "rus = RandomUnderSampler(random_state =42)\n",
    "X_sample2 ,y_sample2= rus.fit_sample(X_train,y_train)\n",
    "\n",
    "# implement logistic regression\n",
    "model_rus = RandomForestClassifier(random_state=42)\n",
    "model_rus.fit(X_sample2,y_sample2)\n",
    "y_pred = model_rus.predict(X_test)\n",
    "\n",
    "accuracy_rus = model_rus.score(X_test,y_test)\n",
    "print(\"Accuracy Score:  \",accuracy_rus)\n",
    "\n",
    "recall_rus = recall_score(y_test,y_pred)\n",
    "print(\"Recall:          \",recall_rus)\n",
    "\n",
    "precision_rus = precision_score(y_test,y_pred)\n",
    "print('Precision Score: ',precision_rus)\n",
    "\n",
    "f1_rus = f1_score(y_test,y_pred)\n",
    "print(\"F1 Score:        \",f1_rus)\n",
    "\n",
    "confusion_mat_rus =confusion_matrix(y_test,y_pred)\n",
    "print(\"Confusion Matrix: \\n\",confusion_mat_rus)\n",
    "\n",
    "\n"
   ]
  },
  {
   "cell_type": "markdown",
   "metadata": {},
   "source": [
    "<img src=\"../images/icon/ppt-icons.png\" alt=\"Concept-Alert\" style=\"width: 100px;float:left; margin-right:15px\"/>\n",
    "<br /> \n",
    "\n",
    "##  Mini-Challenge - 5\n",
    "***\n",
    "### Oversampling has an advantage over undersampling in the form of no information loss. Let's see if our Random Forest Classifier model works better after random oversampling\n",
    "* Implement oversampling using RandomOverSampler of imblearn with random_state=4\n",
    "* And then, Fit a Random forest classifier model with random_state=42 on the balanced data. Find out the f1-score, precision score, recall score, roc-auc score, confusion matrix and accuracy score."
   ]
  },
  {
   "cell_type": "code",
   "execution_count": 64,
   "metadata": {},
   "outputs": [
    {
     "name": "stdout",
     "output_type": "stream",
     "text": [
      "Accuracy Score:   0.9657142857142857\n",
      "Recall:           0.13953488372093023\n",
      "Precision Score:  0.5454545454545454\n",
      "F1 Score:         0.22222222222222218\n",
      "Confusion Matrix: \n",
      " [[1177    5]\n",
      " [  37    6]]\n"
     ]
    }
   ],
   "source": [
    "from imblearn.over_sampling import RandomOverSampler\n",
    "\n",
    "# Code starts here\n",
    "ros = RandomOverSampler(random_state = 4)\n",
    "\n",
    "X_sample5 , y_sample5 = ros.fit_sample(X_train,y_train)\n",
    "\n",
    "model_ros = RandomForestClassifier(random_state = 42)\n",
    "model_ros.fit(X_sample5,y_sample5)\n",
    "y_pred = model_ros.predict(X_test)\n",
    "\n",
    "accuracy_ros = model_ros.score(X_test,y_test)\n",
    "print(\"Accuracy Score:  \",accuracy_ros)\n",
    "\n",
    "recall_ros = recall_score(y_test,y_pred)\n",
    "print(\"Recall:          \",recall_ros)\n",
    "\n",
    "precision_ros = precision_score(y_test,y_pred)\n",
    "print('Precision Score: ',precision_ros)\n",
    "\n",
    "f1_ros = f1_score(y_test,y_pred)\n",
    "print(\"F1 Score:        \",f1_ros)\n",
    "\n",
    "confusion_mat_ros =confusion_matrix(y_test,y_pred)\n",
    "print(\"Confusion Matrix: \\n\",confusion_mat_ros)"
   ]
  },
  {
   "cell_type": "markdown",
   "metadata": {},
   "source": [
    "<img src=\"../images/icon/quiz.png\" alt=\"Concept-Alert\" style=\"width: 100px;float:left; margin-right:15px\"/>\n",
    "<br /> \n",
    "\n",
    "### Challenges in Machine Learning\n",
    "***\n",
    "Q1. Cluster sampling, stratified sampling and systematic sampling are types of\n",
    "```python\n",
    "A. direct sampling\n",
    "B. indirect sampling\n",
    "C. random sampling\n",
    "D. non random sampling\n",
    "Ans:- C\n",
    "```\n",
    "Q2. On skewed datasets (e.g., when there are more positive examples than negative examples), accuracy is not a good measure of performance and you should instead use F1 score based on the precision and recall.\n",
    "\n",
    "Is the above statement True or False ?\n",
    "```python\n",
    "A. True\n",
    "B. False\n",
    "\n",
    "Ans : A.\n",
    "```\n",
    "    \n",
    "Q.3). "
   ]
  },
  {
   "cell_type": "code",
   "execution_count": null,
   "metadata": {},
   "outputs": [],
   "source": []
  }
 ],
 "metadata": {
  "kernelspec": {
   "display_name": "Python 3",
   "language": "python",
   "name": "python3"
  },
  "language_info": {
   "codemirror_mode": {
    "name": "ipython",
    "version": 3
   },
   "file_extension": ".py",
   "mimetype": "text/x-python",
   "name": "python",
   "nbconvert_exporter": "python",
   "pygments_lexer": "ipython3",
   "version": "3.7.0"
  }
 },
 "nbformat": 4,
 "nbformat_minor": 2
}
