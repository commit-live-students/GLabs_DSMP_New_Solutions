{
 "cells": [
  {
   "cell_type": "markdown",
   "metadata": {
    "slideshow": {
     "slide_type": "slide"
    }
   },
   "source": [
    "<h1 align=\"center\"> Logistic Regression</h1>"
   ]
  },
  {
   "cell_type": "markdown",
   "metadata": {},
   "source": [
    "## Dataset"
   ]
  },
  {
   "cell_type": "code",
   "execution_count": 42,
   "metadata": {},
   "outputs": [],
   "source": [
    "import pandas as pd\n",
    "import numpy as np\n",
    "from sklearn.linear_model import LogisticRegression\n",
    "from sklearn.model_selection import GridSearchCV,train_test_split\n",
    "from sklearn.pipeline import Pipeline\n",
    "from sklearn.preprocessing import PolynomialFeatures\n",
    "from sklearn import metrics\n",
    "from sklearn.metrics import f1_score\n",
    "from sklearn.metrics import confusion_matrix\n",
    "import warnings\n",
    "warnings.filterwarnings(\"ignore\")"
   ]
  },
  {
   "cell_type": "code",
   "execution_count": 43,
   "metadata": {},
   "outputs": [
    {
     "data": {
      "text/html": [
       "<div>\n",
       "<style scoped>\n",
       "    .dataframe tbody tr th:only-of-type {\n",
       "        vertical-align: middle;\n",
       "    }\n",
       "\n",
       "    .dataframe tbody tr th {\n",
       "        vertical-align: top;\n",
       "    }\n",
       "\n",
       "    .dataframe thead th {\n",
       "        text-align: right;\n",
       "    }\n",
       "</style>\n",
       "<table border=\"1\" class=\"dataframe\">\n",
       "  <thead>\n",
       "    <tr style=\"text-align: right;\">\n",
       "      <th></th>\n",
       "      <th>school</th>\n",
       "      <th>sex</th>\n",
       "      <th>age</th>\n",
       "      <th>address</th>\n",
       "      <th>famsize</th>\n",
       "      <th>Pstatus</th>\n",
       "      <th>Medu</th>\n",
       "      <th>Fedu</th>\n",
       "      <th>Mjob</th>\n",
       "      <th>Fjob</th>\n",
       "      <th>...</th>\n",
       "      <th>internet</th>\n",
       "      <th>romantic</th>\n",
       "      <th>famrel</th>\n",
       "      <th>freetime</th>\n",
       "      <th>goout</th>\n",
       "      <th>Dalc</th>\n",
       "      <th>Walc</th>\n",
       "      <th>health</th>\n",
       "      <th>absences</th>\n",
       "      <th>G1</th>\n",
       "    </tr>\n",
       "  </thead>\n",
       "  <tbody>\n",
       "    <tr>\n",
       "      <th>0</th>\n",
       "      <td>0</td>\n",
       "      <td>0</td>\n",
       "      <td>3</td>\n",
       "      <td>1</td>\n",
       "      <td>0</td>\n",
       "      <td>0</td>\n",
       "      <td>4</td>\n",
       "      <td>4</td>\n",
       "      <td>0</td>\n",
       "      <td>4</td>\n",
       "      <td>...</td>\n",
       "      <td>0</td>\n",
       "      <td>0</td>\n",
       "      <td>3</td>\n",
       "      <td>2</td>\n",
       "      <td>3</td>\n",
       "      <td>0</td>\n",
       "      <td>0</td>\n",
       "      <td>2</td>\n",
       "      <td>6</td>\n",
       "      <td>2</td>\n",
       "    </tr>\n",
       "    <tr>\n",
       "      <th>1</th>\n",
       "      <td>0</td>\n",
       "      <td>0</td>\n",
       "      <td>2</td>\n",
       "      <td>1</td>\n",
       "      <td>0</td>\n",
       "      <td>1</td>\n",
       "      <td>1</td>\n",
       "      <td>1</td>\n",
       "      <td>0</td>\n",
       "      <td>2</td>\n",
       "      <td>...</td>\n",
       "      <td>1</td>\n",
       "      <td>0</td>\n",
       "      <td>4</td>\n",
       "      <td>2</td>\n",
       "      <td>2</td>\n",
       "      <td>0</td>\n",
       "      <td>0</td>\n",
       "      <td>2</td>\n",
       "      <td>4</td>\n",
       "      <td>2</td>\n",
       "    </tr>\n",
       "    <tr>\n",
       "      <th>2</th>\n",
       "      <td>0</td>\n",
       "      <td>0</td>\n",
       "      <td>0</td>\n",
       "      <td>1</td>\n",
       "      <td>1</td>\n",
       "      <td>1</td>\n",
       "      <td>1</td>\n",
       "      <td>1</td>\n",
       "      <td>0</td>\n",
       "      <td>2</td>\n",
       "      <td>...</td>\n",
       "      <td>1</td>\n",
       "      <td>0</td>\n",
       "      <td>3</td>\n",
       "      <td>2</td>\n",
       "      <td>1</td>\n",
       "      <td>1</td>\n",
       "      <td>2</td>\n",
       "      <td>2</td>\n",
       "      <td>10</td>\n",
       "      <td>4</td>\n",
       "    </tr>\n",
       "    <tr>\n",
       "      <th>3</th>\n",
       "      <td>0</td>\n",
       "      <td>0</td>\n",
       "      <td>0</td>\n",
       "      <td>1</td>\n",
       "      <td>0</td>\n",
       "      <td>1</td>\n",
       "      <td>4</td>\n",
       "      <td>2</td>\n",
       "      <td>1</td>\n",
       "      <td>3</td>\n",
       "      <td>...</td>\n",
       "      <td>1</td>\n",
       "      <td>1</td>\n",
       "      <td>2</td>\n",
       "      <td>1</td>\n",
       "      <td>1</td>\n",
       "      <td>0</td>\n",
       "      <td>0</td>\n",
       "      <td>4</td>\n",
       "      <td>2</td>\n",
       "      <td>12</td>\n",
       "    </tr>\n",
       "    <tr>\n",
       "      <th>4</th>\n",
       "      <td>0</td>\n",
       "      <td>0</td>\n",
       "      <td>1</td>\n",
       "      <td>1</td>\n",
       "      <td>0</td>\n",
       "      <td>1</td>\n",
       "      <td>3</td>\n",
       "      <td>3</td>\n",
       "      <td>2</td>\n",
       "      <td>2</td>\n",
       "      <td>...</td>\n",
       "      <td>0</td>\n",
       "      <td>0</td>\n",
       "      <td>3</td>\n",
       "      <td>2</td>\n",
       "      <td>1</td>\n",
       "      <td>0</td>\n",
       "      <td>1</td>\n",
       "      <td>4</td>\n",
       "      <td>4</td>\n",
       "      <td>3</td>\n",
       "    </tr>\n",
       "  </tbody>\n",
       "</table>\n",
       "<p>5 rows × 31 columns</p>\n",
       "</div>"
      ],
      "text/plain": [
       "   school  sex  age  address  famsize  Pstatus  Medu  Fedu  Mjob  Fjob ...  \\\n",
       "0       0    0    3        1        0        0     4     4     0     4 ...   \n",
       "1       0    0    2        1        0        1     1     1     0     2 ...   \n",
       "2       0    0    0        1        1        1     1     1     0     2 ...   \n",
       "3       0    0    0        1        0        1     4     2     1     3 ...   \n",
       "4       0    0    1        1        0        1     3     3     2     2 ...   \n",
       "\n",
       "   internet  romantic  famrel  freetime  goout  Dalc  Walc  health  absences  \\\n",
       "0         0         0       3         2      3     0     0       2         6   \n",
       "1         1         0       4         2      2     0     0       2         4   \n",
       "2         1         0       3         2      1     1     2       2        10   \n",
       "3         1         1       2         1      1     0     0       4         2   \n",
       "4         0         0       3         2      1     0     1       4         4   \n",
       "\n",
       "   G1  \n",
       "0   2  \n",
       "1   2  \n",
       "2   4  \n",
       "3  12  \n",
       "4   3  \n",
       "\n",
       "[5 rows x 31 columns]"
      ]
     },
     "execution_count": 43,
     "metadata": {},
     "output_type": "execute_result"
    }
   ],
   "source": [
    "#Loading the student dataset for mini-challenges\n",
    "#Goal is to predict the grade of the student\n",
    "df = pd.read_csv(\"../data/student_final.csv\")\n",
    "df.head()"
   ]
  },
  {
   "cell_type": "markdown",
   "metadata": {},
   "source": [
    "<img src=\"../images/icon/ppt-icons.png\" alt=\"Concept-Alert\" style=\"width: 100px;float:left; margin-right:15px\"/>\n",
    "<br /> \n",
    "\n",
    "##  Mini-Challenge - 1 \n",
    "***\n",
    "### Instructions\n",
    "\n",
    "1. Store the features in the variable `X`.\n",
    "2. Store the target variable `G1` in the variable `y`.\n",
    "3. Split the data into `train` and `test`."
   ]
  },
  {
   "cell_type": "code",
   "execution_count": 44,
   "metadata": {},
   "outputs": [],
   "source": [
    "#Splitting dataset into features and target variable and splitting them into train and test.\n",
    "X = df.drop('G1',axis=1)\n",
    "y = df['G1']\n",
    "X_train,X_test,y_train,y_test = train_test_split(X,y)"
   ]
  },
  {
   "cell_type": "markdown",
   "metadata": {},
   "source": [
    "<img src=\"../images/icon/ppt-icons.png\" alt=\"Concept-Alert\" style=\"width: 100px;float:left; margin-right:15px\"/>\n",
    "<br /> \n",
    "\n",
    "##  Mini-Challenge - 2\n",
    "***\n",
    "### Instructions\n",
    "1. Fit a logistic regression model on the data and use GridSearchCV to find the optimum number of polynomial features from the list `[2,3,4]` and the best regularization technique from `[l1,l2]`.\n",
    "2. Then predict on the test dataset and store the result in the variable `y_pred`."
   ]
  },
  {
   "cell_type": "code",
   "execution_count": 45,
   "metadata": {},
   "outputs": [],
   "source": [
    "## For a pipeline object\n",
    "logistic_regressor = LogisticRegression()\n",
    "pipeline = Pipeline(steps=[('add_poly_features', PolynomialFeatures()),\n",
    "                           ('logistic_regression', logistic_regressor)])\n",
    "\n",
    "## Defining the parameters grid\n",
    "params = {'add_poly_features__degree':[2,3,4],\n",
    "          'logistic_regression__penalty':['l1','l2']}\n",
    "grid_search = GridSearchCV(estimator=pipeline, param_grid=params)\n",
    "grid_search.fit(X_train,y_train)\n",
    "y_pred = grid_search.predict(X_test)"
   ]
  },
  {
   "cell_type": "code",
   "execution_count": 46,
   "metadata": {},
   "outputs": [
    {
     "data": {
      "text/plain": [
       "array([ 0,  1,  2,  2,  3,  3,  3,  3,  4,  4,  4,  4,  4,  5,  5,  5,  5,\n",
       "        5,  5,  5,  5,  5,  6,  6,  6,  6,  6,  6,  6,  6,  7,  7,  7,  7,\n",
       "        7,  7,  7,  7,  7,  7,  7,  7,  7,  7,  7,  7,  7,  7,  8,  8,  8,\n",
       "        8,  8,  8,  8,  8,  8,  8,  8,  8,  9,  9,  9,  9,  9,  9,  9,  9,\n",
       "        9,  9, 10, 10, 10, 10, 11, 11, 11, 11, 11, 11, 11, 12, 12, 12, 13,\n",
       "       13, 13, 13, 13, 13, 13, 14, 14, 14, 14, 14, 15, 15, 15])"
      ]
     },
     "execution_count": 46,
     "metadata": {},
     "output_type": "execute_result"
    }
   ],
   "source": [
    "np.sort(y_test)"
   ]
  },
  {
   "cell_type": "code",
   "execution_count": 47,
   "metadata": {},
   "outputs": [
    {
     "data": {
      "text/plain": [
       "array([ 3,  3,  3,  4,  4,  4,  4,  4,  4,  4,  4,  4,  4,  4,  4,  4,  4,\n",
       "        4,  4,  4,  4,  5,  5,  5,  5,  5,  5,  5,  6,  6,  6,  6,  6,  6,\n",
       "        6,  6,  7,  7,  7,  7,  7,  7,  7,  7,  8,  8,  8,  8,  8,  8,  8,\n",
       "        8,  8,  8,  8,  8,  8,  9,  9,  9,  9,  9,  9,  9,  9,  9,  9,  9,\n",
       "        9,  9, 10, 10, 10, 10, 10, 10, 11, 11, 11, 11, 11, 12, 12, 12, 12,\n",
       "       12, 12, 12, 12, 12, 12, 12, 12, 13, 13, 13, 13, 15, 16])"
      ]
     },
     "execution_count": 47,
     "metadata": {},
     "output_type": "execute_result"
    }
   ],
   "source": [
    "np.sort(y_pred)"
   ]
  },
  {
   "cell_type": "markdown",
   "metadata": {},
   "source": [
    "<img src=\"../images/icon/ppt-icons.png\" alt=\"Concept-Alert\" style=\"width: 100px;float:left; margin-right:15px\"/>\n",
    "<br /> \n",
    "\n",
    "##  Mini-Challenge - 3\n",
    "***\n",
    "### Instructions\n",
    "* Find the confusion matrix, f1-score of your model."
   ]
  },
  {
   "cell_type": "code",
   "execution_count": 48,
   "metadata": {},
   "outputs": [
    {
     "name": "stdout",
     "output_type": "stream",
     "text": [
      "F1 Score:  [0.         0.         0.         0.         0.         0.125\n",
      " 0.25       0.07692308 0.16       0.17391304 0.         0.16666667\n",
      " 0.13333333 0.         0.         0.         0.        ]\n",
      "Confusion Matrix:  [[0 0 0 0 0 0 0 0 0 0 0 0 1 0 0 0 0]\n",
      " [0 0 0 0 1 0 0 0 0 0 0 0 0 0 0 0 0]\n",
      " [0 0 0 0 2 0 0 0 0 0 0 0 0 0 0 0 0]\n",
      " [0 0 0 0 2 0 0 0 1 1 0 0 0 0 0 0 0]\n",
      " [0 0 0 0 0 0 1 0 1 0 1 2 0 0 0 0 0]\n",
      " [0 0 0 0 5 1 0 0 0 0 0 1 2 0 0 0 0]\n",
      " [0 0 0 1 1 0 2 0 3 1 0 0 0 0 0 0 0]\n",
      " [0 0 0 1 4 0 3 1 2 4 1 1 0 1 0 0 0]\n",
      " [0 0 0 1 1 2 1 0 2 1 1 0 1 1 0 0 1]\n",
      " [0 0 0 0 2 0 0 3 1 2 0 0 1 0 0 1 0]\n",
      " [0 0 0 0 0 0 0 2 0 1 0 0 0 1 0 0 0]\n",
      " [0 0 0 0 0 1 0 0 0 2 0 1 2 1 0 0 0]\n",
      " [0 0 0 0 0 0 1 0 0 1 0 0 1 0 0 0 0]\n",
      " [0 0 0 0 0 2 0 1 1 0 1 0 2 0 0 0 0]\n",
      " [0 0 0 0 0 1 0 0 1 0 2 0 1 0 0 0 0]\n",
      " [0 0 0 0 0 0 0 1 1 0 0 0 1 0 0 0 0]\n",
      " [0 0 0 0 0 0 0 0 0 0 0 0 0 0 0 0 0]]\n"
     ]
    }
   ],
   "source": [
    "\n",
    "## code for f-1 score\n",
    "f1_scor = f1_score(y_test,y_pred,average=None)\n",
    "print(\"F1 Score: \",f1_scor)\n",
    "\n",
    "# Applying confusion matrix on above data\n",
    "confusion_mat = confusion_matrix(y_test,y_pred)\n",
    "print(\"Confusion Matrix: \",confusion_mat)"
   ]
  },
  {
   "cell_type": "markdown",
   "metadata": {},
   "source": [
    "## Quiz\n",
    "\n",
    "Q1. True-False: Is Logistic regression a supervised machine learning algorithm?\n",
    "```python\n",
    "A) TRUE\n",
    "B) FALSE\n",
    "Ans:- A\n",
    "\n",
    "True, Logistic regression is a supervised learning algorithm because it uses true labels for training. \n",
    "Supervised learning algorithm should have input variables (x) and an target variable (Y) when you train the model .\n",
    "```\n",
    "\n",
    "Q2. True-False: Is Logistic regression mainly used for Regression?\n",
    "```python\n",
    "A) TRUE\n",
    "B) FALSE\n",
    "\n",
    "Ans:- B\n",
    "\n",
    "Logistic regression is a classification algorithm, don’t confuse with the name regression.\n",
    "```\n",
    "\n",
    "Q3. True-False: Is it possible to apply a logistic regression algorithm on a 3-class Classification problem?\n",
    "```python\n",
    "A) TRUE\n",
    "B) FALSE\n",
    "\n",
    "Ans: A\n",
    "\n",
    "Yes, we can apply logistic regression on 3 classification problem, We can use One Vs all method for 3 class classification in logistic regression.\n",
    "```\n",
    "\n",
    "Q4. Which of the following methods do we use to best fit the data in Logistic Regression?\n",
    "```python\n",
    "A) Least Square Error\n",
    "B) Maximum Likelihood\n",
    "C) Jaccard distance\n",
    "D) Both A and B\n",
    "\n",
    "Ans:- B\n",
    "\n",
    "Logistic regression uses maximum likely hood estimate for training a logistic regression.\n",
    "```\n",
    "Q5. Which of the following evaluation metrics can not be applied in case of logistic regression output to compare with target?\n",
    "```python\n",
    "A) AUC-ROC\n",
    "B) Accuracy\n",
    "C) Logloss\n",
    "D) Mean-Squared-Error\n",
    "\n",
    "Ans:- D\n",
    "\n",
    "Since, Logistic Regression is a classification algorithm so it’s output can not be real time value so mean \n",
    "squared error can not use for evaluating it\n",
    "```\n",
    "Q6. Which of the following algorithms do we use for Variable Selection?\n",
    "```python\n",
    "A) LASSO\n",
    "B) Ridge\n",
    "C) Both\n",
    "D) None of these\n",
    "\n",
    "Ans:- A\n",
    "\n",
    "In case of lasso we apply a absolute penality, after increasing the penality in lasso some of the coefficient of variables may become zero.\n",
    "```\n"
   ]
  },
  {
   "cell_type": "markdown",
   "metadata": {},
   "source": [
    "# Thank You\n",
    "***\n",
    "### Next Session: Feature Selection\n",
    "For more queries - Reach out to academics@greyatom.com "
   ]
  }
 ],
 "metadata": {
  "anaconda-cloud": {},
  "celltoolbar": "Slideshow",
  "kernelspec": {
   "display_name": "Python 3",
   "language": "python",
   "name": "python3"
  },
  "language_info": {
   "codemirror_mode": {
    "name": "ipython",
    "version": 3
   },
   "file_extension": ".py",
   "mimetype": "text/x-python",
   "name": "python",
   "nbconvert_exporter": "python",
   "pygments_lexer": "ipython3",
   "version": "3.7.0"
  },
  "widgets": {
   "state": {},
   "version": "1.1.2"
  }
 },
 "nbformat": 4,
 "nbformat_minor": 2
}
