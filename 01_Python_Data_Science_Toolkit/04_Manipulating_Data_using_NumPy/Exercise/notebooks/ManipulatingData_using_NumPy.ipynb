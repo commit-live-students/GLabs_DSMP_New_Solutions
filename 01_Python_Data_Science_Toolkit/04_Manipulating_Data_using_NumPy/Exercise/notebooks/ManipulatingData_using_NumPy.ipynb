{
 "cells": [
  {
   "cell_type": "markdown",
   "metadata": {
    "slideshow": {
     "slide_type": "slide"
    }
   },
   "source": [
    "# Manipulating Data using NumPy"
   ]
  },
  {
   "cell_type": "markdown",
   "metadata": {
    "slideshow": {
     "slide_type": "subslide"
    }
   },
   "source": [
    "![caption](../images/numpy-logo.jpg)\n",
    "***\n",
    "NumPy, which stands for Numerical Python, is a library consisting of multidimensional array objects and a collection of routines for processing those arrays. Using NumPy, mathematical and logical operations on arrays can be performed. Let's along with the basics of NumPy such as its architecture and environment. It also discusses the various array functions, types of indexing, etc.\n",
    "\n",
    "We can install numpy by `pip install numpy`\n",
    "\n",
    "- Main object: **`ndarray`**"
   ]
  },
  {
   "cell_type": "markdown",
   "metadata": {
    "slideshow": {
     "slide_type": "subslide"
    }
   },
   "source": [
    "<img src=\"../images/icon/Technical-Stuff.png\" alt=\"Technical-Stuff\" style=\"width: 100px;float:left; margin-right:15px\"/>\n",
    "<br />\n",
    "\n",
    "# ndarray\n",
    "***\n",
    "\n",
    "The most important object defined in NumPy is an N-dimensional array type called ndarray. It describes the collection of items of the same type. Items in the collection can be accessed using a zero-based index.\n",
    "\n",
    "Every item in an ndarray takes the same size of block in the memory. Each element in ndarray is an object of data-type object (called dtype).Any item extracted from ndarray object (by slicing) is represented by a Python object of one of array scalar types. An instance of ndarray class can be constructed by different array creation routines described later.\n",
    "\n",
    "You import the function in python by calling `import numpy`. The basic ndarray is created using an array function in NumPy as follows −"
   ]
  },
  {
   "cell_type": "code",
   "execution_count": 1,
   "metadata": {
    "scrolled": true
   },
   "outputs": [
    {
     "data": {
      "text/plain": [
       "<function numpy.core.multiarray.array>"
      ]
     },
     "execution_count": 1,
     "metadata": {},
     "output_type": "execute_result"
    }
   ],
   "source": [
    "import numpy\n",
    "numpy.array"
   ]
  },
  {
   "cell_type": "markdown",
   "metadata": {
    "slideshow": {
     "slide_type": "slide"
    }
   },
   "source": [
    "\n",
    "<img src=\"../images/icon/Concept-Alert.png\" alt=\"Concept-Alert\" style=\"width: 100px;float:left; margin-right:15px\"/>\n",
    "<br />\n",
    "\n",
    "## How do I create Arrays in Python?\n",
    "***\n",
    "* Create an array from a regular Python list or tuple using the array function. \n",
    "\n",
    "* The type of the resulting array is deduced from the type of the elements in the sequences"
   ]
  },
  {
   "cell_type": "markdown",
   "metadata": {},
   "source": [
    "It creates an ndarray from any object exposing array interface, or from any method that returns an array."
   ]
  },
  {
   "cell_type": "code",
   "execution_count": 2,
   "metadata": {},
   "outputs": [
    {
     "data": {
      "text/plain": [
       "array(<class 'object'>, dtype=object)"
      ]
     },
     "execution_count": 2,
     "metadata": {},
     "output_type": "execute_result"
    }
   ],
   "source": [
    "numpy.array(object, dtype = None, copy = True, order = None, subok = False, ndmin = 0)"
   ]
  },
  {
   "cell_type": "markdown",
   "metadata": {},
   "source": [
    "### Instructions\n",
    "* Create a list of number's as `[10,20,30]` and save it as `my_list`\n",
    "* Convert the list into an array using `np.array()`"
   ]
  },
  {
   "cell_type": "code",
   "execution_count": 1,
   "metadata": {
    "ExecuteTime": {
     "end_time": "2017-09-25T08:05:43.734658Z",
     "start_time": "2017-09-25T08:05:41.934609Z"
    },
    "slideshow": {
     "slide_type": "fragment"
    }
   },
   "outputs": [
    {
     "data": {
      "text/plain": [
       "array([10, 20, 30])"
      ]
     },
     "execution_count": 1,
     "metadata": {},
     "output_type": "execute_result"
    }
   ],
   "source": [
    "import numpy as np\n",
    "my_list = [10,20,30]\n",
    "np.array(my_list)"
   ]
  },
  {
   "cell_type": "markdown",
   "metadata": {},
   "source": [
    "### Instructions\n",
    "* Create a list of list as `[[5, 10, 15], [20, 25, 30], [35, 40, 45]]` and save it as `list_of_lists `\n",
    "* Convert the list of list into an array using `np.array()` and print it.\n",
    "* Check the `type()` of the array."
   ]
  },
  {
   "cell_type": "code",
   "execution_count": 2,
   "metadata": {
    "ExecuteTime": {
     "end_time": "2017-09-25T08:05:45.740644Z",
     "start_time": "2017-09-25T08:05:45.724885Z"
    },
    "slideshow": {
     "slide_type": "fragment"
    }
   },
   "outputs": [
    {
     "name": "stdout",
     "output_type": "stream",
     "text": [
      "[[ 5 10 15]\n",
      " [20 25 30]\n",
      " [35 40 45]]\n",
      "<class 'numpy.ndarray'>\n"
     ]
    }
   ],
   "source": [
    "list_of_lists = [[5, 10, 15], [20, 25, 30], [35, 40, 45]]\n",
    "print(np.array(list_of_lists))\n",
    "print(type(np.array(list_of_lists)))"
   ]
  },
  {
   "cell_type": "markdown",
   "metadata": {},
   "source": [
    "An example of how does n-dimensional looks"
   ]
  },
  {
   "cell_type": "markdown",
   "metadata": {
    "slideshow": {
     "slide_type": "subslide"
    }
   },
   "source": [
    "## Types\n",
    "\n",
    "![NumPy Array Types](../images/numpy-types1.jpg)"
   ]
  },
  {
   "cell_type": "markdown",
   "metadata": {},
   "source": [
    "`ndarray` is also known by the alias `array`. Note that `numpy.array` is not the same as the Standard Python Library class `array.array`, which only handles one-dimensional arrays and offers less functionality. The more important attributes of an `ndarray` object are:\n",
    "\n",
    "***ndarray.ndim***\n",
    "the number of axes (dimensions) of the array. In the Python world, the number of dimensions is referred to as rank.\n",
    "\n",
    "***ndarray.shape***\n",
    "the dimensions of the array. This is a tuple of integers indicating the size of the array in each dimension. For a matrix with n rows and m columns, `shape` will be `(n,m)`. The length of the `shape` tuple is therefore the rank, or number of dimensions,`ndim`.\n",
    "\n",
    "***ndarray.size***\n",
    "the total number of elements of the array. This is equal to the product of the elements of shape.\n",
    "\n",
    "***ndarray.dtype***\n",
    "an object describing the type of the elements in the array. One can create or specify dtype’s using standard Python types. Additionally NumPy provides types of its own. numpy.int32, numpy.int16, and numpy.float64 are some examples.\n",
    "\n",
    "***ndarray.reshape***\n",
    "Returns an array containing the same data with a new shape."
   ]
  },
  {
   "cell_type": "markdown",
   "metadata": {
    "slideshow": {
     "slide_type": "slide"
    }
   },
   "source": [
    "<img src=\"../images/icon/Technical-Stuff.png\" alt=\"Technical-Stuff\" style=\"width: 100px;float:left; margin-right:15px\"/>\n",
    "<br />\n",
    "\n",
    "## numpy.dtype\n",
    "***\n",
    "<br/>\n",
    "The data type or dtype describes the kind of elements that are contained within the array.\n",
    "\n",
    "* **bool**: Boolean values\n",
    "<br/><br/>\n",
    "\n",
    "* **int**: Integer values. Can be int16, int32, or int64.\n",
    "\n",
    "\n",
    "* **float**: Floating point values. Can be float16, float32, or float64.\n",
    "<br/><br/>\n",
    "\n",
    "\n",
    "* **string**: Text. Can be string or unicode (this distinction is greatly simplified in Python 3)"
   ]
  },
  {
   "cell_type": "markdown",
   "metadata": {
    "slideshow": {
     "slide_type": "subslide"
    }
   },
   "source": [
    "<img src=\"../images/icon/ppt-icons.png\" alt=\"ppt-icons\" style=\"width: 100px;float:left; margin-right:15px\"/>\n",
    "<br />\n",
    "\n",
    "## Let's try it ourselves!\n",
    "***\n",
    "### Create a vector from the list [10, 20, 30]. Print the dtype and shape."
   ]
  },
  {
   "cell_type": "code",
   "execution_count": 5,
   "metadata": {
    "ExecuteTime": {
     "end_time": "2017-09-25T07:26:07.823778Z",
     "start_time": "2017-09-25T07:26:07.814463Z"
    },
    "slideshow": {
     "slide_type": "fragment"
    }
   },
   "outputs": [
    {
     "name": "stdout",
     "output_type": "stream",
     "text": [
      "int64\n",
      "(3,)\n"
     ]
    }
   ],
   "source": [
    "my_list = [10, 20, 30]\n",
    "\n",
    "arr = np.array(my_list)\n",
    "\n",
    "print(arr.dtype)\n",
    "print(arr.shape)"
   ]
  },
  {
   "cell_type": "markdown",
   "metadata": {
    "slideshow": {
     "slide_type": "subslide"
    }
   },
   "source": [
    "<img src=\"../images/icon/ppt-icons.png\" alt=\"ppt-icons\" style=\"width: 100px;float:left; margin-right:15px\"/>\n",
    "<br />\n",
    "\n",
    "### Create a matrix from the list of lists [[5.3, 10.2, 15.1], [20.4, 25.3, 30.9], [35.4, 40.1, 45.6]]. Print the dtype and shape. \n",
    "***"
   ]
  },
  {
   "cell_type": "code",
   "execution_count": 6,
   "metadata": {
    "ExecuteTime": {
     "end_time": "2017-09-25T07:26:00.859219Z",
     "start_time": "2017-09-25T07:26:00.852623Z"
    },
    "slideshow": {
     "slide_type": "fragment"
    }
   },
   "outputs": [
    {
     "name": "stdout",
     "output_type": "stream",
     "text": [
      "float64\n",
      "(3, 3)\n"
     ]
    }
   ],
   "source": [
    "my_list1 = [[5.3, 10.2, 15.1], [20.4, 25.3, 30.9], [35.4, 40.1, 45.6]]\n",
    "arr1 = np.array(my_list1)\n",
    "print(arr1.dtype)\n",
    "print(arr1.shape)"
   ]
  },
  {
   "cell_type": "markdown",
   "metadata": {},
   "source": [
    "<img src=\"../images/icon/Concept-Alert.png\" alt=\"Concept-Alert\" style=\"width: 100px;float:left; margin-right:15px\"/>\n",
    "<br />\n",
    "\n",
    "## Indexing and Selection\n",
    "***\n",
    "Basic slicing extends Python's basic concept of slicing to N dimensions. Basic slicing occurs when obj is a :class: slice object (constructed by start:stop:step notation inside of brackets), an integer, or a tuple of slice objects and integers. :const:Ellipsis and :const:newaxis objects can be interspersed with these as well. In order to remain backward compatible with a common usage in Numeric, basic slicing is also initiated if the selection object is any non-ndarray sequence (such as a :class:list) containing :class:slice objects.\n",
    "\n",
    "Let us look at creating an array with numpy and indexing and selection follows from what we have learnt in python"
   ]
  },
  {
   "cell_type": "markdown",
   "metadata": {},
   "source": [
    "### Instructions\n",
    "* Create an array from `0` to `9` using `np.arange()` and save it as `arr`\n",
    "* Print the element at index `5`\n",
    "* Print the elements from `1` to `9` with an interval of `2`"
   ]
  },
  {
   "cell_type": "code",
   "execution_count": 3,
   "metadata": {},
   "outputs": [],
   "source": [
    "# indexing one dimensional array\n",
    "\n",
    "\n",
    "# get the element at index 5\n",
    "\n",
    "\n",
    "#Get values in a range\n"
   ]
  },
  {
   "cell_type": "markdown",
   "metadata": {},
   "source": [
    "### Instructions\n",
    "* Create a two dimensional array from `1` to `9` and save it as `arr` and print it.\n",
    "* Print 1st row\n",
    "* Print the value of 2nd row and 2nd column\n",
    "* Print the value of 0th row and 2nd column"
   ]
  },
  {
   "cell_type": "code",
   "execution_count": 33,
   "metadata": {},
   "outputs": [
    {
     "name": "stdout",
     "output_type": "stream",
     "text": [
      "[[1 2 3]\n",
      " [4 5 6]\n",
      " [7 8 9]]\n",
      "[4 5 6]\n",
      "9\n",
      "3\n"
     ]
    }
   ],
   "source": [
    "# indexing two dimensional array\n",
    "arr = np.array([[1,2,3],[4,5,6],[7,8,9]])\n",
    "\n",
    "print (arr)\n",
    "print (arr[1])    # select a row\n",
    "print (arr[2][2]) #[row], [column]\n",
    "print (arr[0,2])  # [row, column]"
   ]
  },
  {
   "cell_type": "markdown",
   "metadata": {
    "slideshow": {
     "slide_type": "slide"
    }
   },
   "source": [
    "# Analyzing the Weather using NumPy"
   ]
  },
  {
   "cell_type": "markdown",
   "metadata": {
    "slideshow": {
     "slide_type": "subslide"
    }
   },
   "source": [
    "<center><img src=\"../images/weather.jpg\" alt=\"Weather\" style=\"width: 350px;\"/></center>\n",
    "Now it's time to use some them to learn data manipulation by analyzing a weather data set. As they say\n",
    "\n",
    "We'll be working with **weather_small_2012.csv**, which contains weather data for each hour in 2012.\n",
    "Since weather_small_2012.csv is a csv file, rows are separated by line breaks, and columns are\n",
    "separated by commas:"
   ]
  },
  {
   "cell_type": "markdown",
   "metadata": {
    "slideshow": {
     "slide_type": "subslide"
    }
   },
   "source": [
    "```\n",
    "Date/Time,Temp (C),Dew Point Temp (C),Rel Hum (%),Wind Spd (km/h),Visibility (km),Stn Press (kPa)\n",
    "2012-01-01 00:00:00,-1.8,-3.9,86,4,8.0,101.24\n",
    "2012-01-01 01:00:00,-1.8,-3.7,87,4,8.0,101.24\n",
    "2012-01-01 02:00:00,-1.8,-3.4,89,7,4.0,101.26\n",
    "2012-01-01 03:00:00,-1.5,-3.2,88,6,4.0,101.27\n",
    "```\n",
    "\n",
    "**To read csv file, we use:**\n",
    "\n",
    "    numpy.genfromtxt(fileName, delimeter=\",\")"
   ]
  },
  {
   "cell_type": "markdown",
   "metadata": {},
   "source": [
    "### Instructions\n",
    "* `weather` variable  is already defined for you with the dataset path\n",
    "* Print the type of the dataset using `.dtype`\n",
    "* Also print the `weather` dataset and have a look at it"
   ]
  },
  {
   "cell_type": "code",
   "execution_count": 12,
   "metadata": {
    "ExecuteTime": {
     "end_time": "2017-09-25T09:15:51.307955Z",
     "start_time": "2017-09-25T09:15:51.174581Z"
    },
    "slideshow": {
     "slide_type": "subslide"
    }
   },
   "outputs": [
    {
     "name": "stdout",
     "output_type": "stream",
     "text": [
      "float64\n",
      "[[   nan    nan    nan ...    nan    nan    nan]\n",
      " [   nan  -1.8   -3.9  ...   4.     8.   101.24]\n",
      " [   nan  -1.8   -3.7  ...   4.     8.   101.24]\n",
      " ...\n",
      " [   nan  -0.5   -1.5  ...  28.     4.8   99.95]\n",
      " [   nan  -0.2   -1.8  ...  28.     9.7   99.91]\n",
      " [   nan   0.    -2.1  ...  30.    11.3   99.89]]\n"
     ]
    }
   ],
   "source": [
    "# read csv file\n",
    "weather = np.genfromtxt(\"../data/weather_small_2012.csv\", delimiter=\",\")\n",
    "\n",
    "print (weather.dtype)\n",
    "print (weather)"
   ]
  },
  {
   "cell_type": "markdown",
   "metadata": {
    "slideshow": {
     "slide_type": "subslide"
    }
   },
   "source": [
    "Many items in this dataset are nan.\n",
    "\n",
    "* The entire first row is nan – headers are String.\n",
    "* Some of the numbers are written like 1.98600000e+03.\n",
    "\n",
    "The data type of weather is float. Because all of the values in a NumPy array have to have the same\n",
    "data type, NumPy attempted to convert all of the columns to floats when they were read in."
   ]
  },
  {
   "cell_type": "markdown",
   "metadata": {
    "slideshow": {
     "slide_type": "subslide"
    }
   },
   "source": [
    "**Reading In The Data Properly**\n",
    "\n",
    "***\n",
    "To read weather_small_2012.csv file properly we will have to use correct data type and skip the header.\n",
    "* genfromtxt() default dtype is float, it converts non-numeric value to nan (not a number)\n",
    "* To avoid nan, we read values as |S20 (String of length 20) "
   ]
  },
  {
   "cell_type": "markdown",
   "metadata": {},
   "source": [
    "### Instructions\n",
    "* Read the Weather data using `np.genfromtxt()` by passing parameters as `path of the dataset`,`dtype='|S20'`, `skip_header=1`, `delimiter=\",\"`\n",
    "* Print the value of first index of the dataset"
   ]
  },
  {
   "cell_type": "code",
   "execution_count": 13,
   "metadata": {
    "ExecuteTime": {
     "end_time": "2017-09-25T09:25:43.473340Z",
     "start_time": "2017-09-25T09:25:43.385551Z"
    },
    "slideshow": {
     "slide_type": "fragment"
    }
   },
   "outputs": [
    {
     "name": "stdout",
     "output_type": "stream",
     "text": [
      "|S20\n",
      "[b'2012-01-01 00:00:00' b'-1.8' b'-3.9' b'86' b'4' b'8.0' b'101.24']\n"
     ]
    }
   ],
   "source": [
    "weather = np.genfromtxt(\"../data/weather_small_2012.csv\", dtype='|S20', skip_header=1, delimiter=\",\")\n",
    "\n",
    "print (weather.dtype)\n",
    "print (weather[0])"
   ]
  },
  {
   "cell_type": "markdown",
   "metadata": {},
   "source": [
    "### Instructions\n",
    "* Create an array of temperature and convert it into float16 using `.astype(np.float16)` and save it as `temperatures`.\n",
    "* Create an array of dew point temperature and convert it into float16 using `.astype(np.float16)` and save it as `dew_point_temperatures`.\n"
   ]
  },
  {
   "cell_type": "code",
   "execution_count": 19,
   "metadata": {
    "ExecuteTime": {
     "end_time": "2017-09-25T09:42:44.653759Z",
     "start_time": "2017-09-25T09:42:44.635650Z"
    },
    "slideshow": {
     "slide_type": "subslide"
    }
   },
   "outputs": [
    {
     "name": "stdout",
     "output_type": "stream",
     "text": [
      "[-1.8 -1.8 -1.8 ... -0.5 -0.2  0. ]\n",
      "[-3.9 -3.7 -3.4 ... -1.5 -1.8 -2.1]\n"
     ]
    }
   ],
   "source": [
    "# Create an array of temperatures from the data set\n",
    "\n",
    "temperatures = weather[:,1].astype(np.float16)\n",
    "print(np.array(temperatures))\n",
    "\n",
    "dew_point_temperatures = weather[:,2].astype(np.float16)\n",
    "print(np.array(dew_point_temperatures))"
   ]
  },
  {
   "cell_type": "markdown",
   "metadata": {
    "slideshow": {
     "slide_type": "slide"
    }
   },
   "source": [
    "<img src=\"../images/icon/Concept-Alert.png\" alt=\"Concept-Alert\" style=\"width: 100px;float:left; margin-right:15px\"/>\n",
    "<br />\n",
    "\n",
    "# Operations with NumPy arrays\n",
    "***\n",
    "NumPy provides a lot of built-in functionality for working with arrays.\n",
    "**The important concepts to remember are**\n",
    "- Any operation with a scalar number or a scalar function will cause that operation being computed for each element\n",
    "- Any operation with two **compatible** (eg.: same shape) arrays will cause one-to-one element computations"
   ]
  },
  {
   "cell_type": "markdown",
   "metadata": {
    "slideshow": {
     "slide_type": "subslide"
    }
   },
   "source": [
    "<img src=\"../images/icon/Maths-Insight.png\" alt=\"Technical-Stuff\" style=\"width: 100px;float:left; margin-right:15px\"/>\n",
    "<br />\n",
    "\n",
    "## Arithmetic (1/2)\n",
    "***\n",
    "### Vector Arithmetic\n",
    "- All operations between arrays are **element-wise**\n",
    "- This means that if you multiply two 2d vectors, it will **NOT** perform matrix multiplication"
   ]
  },
  {
   "cell_type": "markdown",
   "metadata": {
    "slideshow": {
     "slide_type": "subslide"
    }
   },
   "source": [
    "<img src=\"../images/icon/Maths-Insight.png\" alt=\"Technical-Stuff\" style=\"width: 100px;float:left; margin-right:15px\"/>\n",
    "<br />\n",
    "\n",
    "## Arithmetic (2/2)\n",
    "***\n",
    "### Scalar Arithmetic\n",
    "- Any operation of an array with a scalar will result in **element-wise** computation of that operation\n",
    "- For example **`my_array + 2`** is the same as adding 2 to each element of array"
   ]
  },
  {
   "cell_type": "markdown",
   "metadata": {
    "ExecuteTime": {
     "end_time": "2017-09-25T08:07:19.926011Z",
     "start_time": "2017-09-25T08:07:19.915816Z"
    },
    "slideshow": {
     "slide_type": "subslide"
    }
   },
   "source": [
    "### Instructions\n",
    "* Calculate the Temperatures from the weather dataset in Farenheit"
   ]
  },
  {
   "cell_type": "code",
   "execution_count": 20,
   "metadata": {
    "ExecuteTime": {
     "end_time": "2017-09-25T09:40:35.470263Z",
     "start_time": "2017-09-25T09:40:35.458876Z"
    },
    "slideshow": {
     "slide_type": "fragment"
    }
   },
   "outputs": [
    {
     "data": {
      "text/plain": [
       "array([28.77, 28.77, 28.77, ..., 31.1 , 31.64, 32.  ], dtype=float16)"
      ]
     },
     "execution_count": 20,
     "metadata": {},
     "output_type": "execute_result"
    }
   ],
   "source": [
    "farenheit = (temperatures * 9 / 5) + 32\n",
    "farenheit"
   ]
  },
  {
   "cell_type": "markdown",
   "metadata": {
    "ExecuteTime": {
     "end_time": "2017-09-25T08:07:19.926011Z",
     "start_time": "2017-09-25T08:07:19.915816Z"
    },
    "slideshow": {
     "slide_type": "subslide"
    }
   },
   "source": [
    "### Addition\n",
    "\n",
    "### Instructions\n",
    "* Print Vector Addition of `temperatures` and `dew_point_temperatures`\n",
    "* Print Scalar Addition of `temperatures` + 100"
   ]
  },
  {
   "cell_type": "code",
   "execution_count": 21,
   "metadata": {
    "ExecuteTime": {
     "end_time": "2017-09-25T09:43:50.347562Z",
     "start_time": "2017-09-25T09:43:50.337963Z"
    },
    "slideshow": {
     "slide_type": "fragment"
    }
   },
   "outputs": [
    {
     "name": "stdout",
     "output_type": "stream",
     "text": [
      "[-5.7 -5.5 -5.2 ... -2.  -2.  -2.1]\n",
      "[ 98.2  98.2  98.2 ...  99.5  99.8 100. ]\n"
     ]
    }
   ],
   "source": [
    "# Total temperature\n",
    "\n",
    "# Vector Addition\n",
    "print(temperatures + dew_point_temperatures)\n",
    "\n",
    "# Scalar Addition\n",
    "print(temperatures + 100)"
   ]
  },
  {
   "cell_type": "markdown",
   "metadata": {
    "ExecuteTime": {
     "end_time": "2017-09-25T08:07:19.926011Z",
     "start_time": "2017-09-25T08:07:19.915816Z"
    },
    "slideshow": {
     "slide_type": "subslide"
    }
   },
   "source": [
    "### Division\n",
    "### Instructions\n",
    "* Create an array from `1` to `10` using `np.arange()` and passing parameter as `dtype=np.float16` and reshape it in 3 X 3 matrix and save it as `array1`\n",
    "* Create an array from `100` to `109` using `np.arange()` and passing parameter as `dtype=np.float16` and reshape it in 3 X 3 matrix and save it as `array2`\n",
    "* Perform Vector Division by dividing `array2` by `array1`\n",
    "* Perform Scalar Division by dividing `array2` by `3`"
   ]
  },
  {
   "cell_type": "code",
   "execution_count": 22,
   "metadata": {
    "ExecuteTime": {
     "end_time": "2017-09-25T08:29:55.596219Z",
     "start_time": "2017-09-25T08:29:55.575775Z"
    },
    "slideshow": {
     "slide_type": "fragment"
    }
   },
   "outputs": [
    {
     "name": "stdout",
     "output_type": "stream",
     "text": [
      "[[1. 2. 3.]\n",
      " [4. 5. 6.]\n",
      " [7. 8. 9.]]\n",
      "[[100. 101. 102.]\n",
      " [103. 104. 105.]\n",
      " [106. 107. 108.]]\n",
      "[[100.     50.5    34.   ]\n",
      " [ 25.75   20.8    17.5  ]\n",
      " [ 15.14   13.375  12.   ]]\n",
      "[[33.34 33.66 34.  ]\n",
      " [34.34 34.66 35.  ]\n",
      " [35.34 35.66 36.  ]]\n"
     ]
    }
   ],
   "source": [
    "array1 = np.arange(1, 10, dtype=np.float16).reshape(3, 3)\n",
    "array2 = np.arange(100, 109, dtype=np.float16).reshape(3, 3)\n",
    "\n",
    "print(array1)\n",
    "print(array2)\n",
    "\n",
    "print(array2 / array1)  # Vector Division\n",
    "print(array2 / 3)    # Scalar Division"
   ]
  },
  {
   "cell_type": "markdown",
   "metadata": {
    "slideshow": {
     "slide_type": "subslide"
    }
   },
   "source": [
    "## Comparison\n",
    "\n",
    "Comparing two numpy arrays for equality, element-wise"
   ]
  },
  {
   "cell_type": "markdown",
   "metadata": {},
   "source": [
    "### Instructions\n",
    "* Find `temperatures` that are above `0` degree celcius and save it as `greater_than_0`\n",
    "* Print `temperatures` and `greater_than_0`\n",
    "* Print type of `greater_than_0` using `type()`\n",
    "* Print type of `greater_than_0` using `.dtype`"
   ]
  },
  {
   "cell_type": "code",
   "execution_count": 23,
   "metadata": {
    "ExecuteTime": {
     "end_time": "2017-09-25T09:48:03.450206Z",
     "start_time": "2017-09-25T09:48:03.438867Z"
    },
    "slideshow": {
     "slide_type": "fragment"
    }
   },
   "outputs": [
    {
     "name": "stdout",
     "output_type": "stream",
     "text": [
      "[-1.8 -1.8 -1.8 ... -0.5 -0.2  0. ]\n",
      "[False False False ... False False False]\n",
      "<class 'numpy.ndarray'>\n",
      "bool\n"
     ]
    }
   ],
   "source": [
    "# Find those temperatures that are above 0 degrees Celcius\n",
    "\n",
    "greater_than_0 = temperatures > 0\n",
    "\n",
    "print(temperatures)\n",
    "print(greater_than_0)\n",
    "\n",
    "print(type(greater_than_0))\n",
    "print(greater_than_0.dtype)"
   ]
  },
  {
   "cell_type": "markdown",
   "metadata": {},
   "source": [
    "### Instructions\n",
    "* Create 3 X 3 matrix using `1` to `9` numbers and save it as `arr`\n",
    "* Check the condition for `2` or `5` in `arr` and save it as `two_or_five` and print it."
   ]
  },
  {
   "cell_type": "code",
   "execution_count": 29,
   "metadata": {
    "ExecuteTime": {
     "end_time": "2017-09-25T09:50:53.579147Z",
     "start_time": "2017-09-25T09:50:53.570758Z"
    },
    "slideshow": {
     "slide_type": "fragment"
    }
   },
   "outputs": [
    {
     "name": "stdout",
     "output_type": "stream",
     "text": [
      "[[1 2 3]\n",
      " [4 5 6]\n",
      " [7 8 9]]\n",
      "[[False  True False]\n",
      " [False  True False]\n",
      " [False False False]]\n"
     ]
    }
   ],
   "source": [
    "# multiple conditions\n",
    "arr = np.array([[1,2,3],[4,5,6],[7,8,9]])\n",
    "print(arr)\n",
    "two_or_five = (arr == 2) | (arr == 5)\n",
    "print(two_or_five)"
   ]
  },
  {
   "cell_type": "markdown",
   "metadata": {
    "slideshow": {
     "slide_type": "subslide"
    }
   },
   "source": [
    "<img src=\"../images/icon/Technical-Stuff.png\" alt=\"Concept-Alert\" style=\"width: 100px;float:left; margin-right:15px\"/>\n",
    "<br />\n",
    "\n",
    "## Aggregation \n",
    "***\n",
    "* **`sum()`:** Computes the sum of all the elements in a vector, or the sum along a dimension in a matrix.\n",
    "* **`mean()`:** Computes the average of all the elements in a vector, or the average along a dimension in a matrix.\n",
    "* **`max()`/`min()`:** Identifies the maximum/minimum value among all the elements in a vector, or along a dimension in a matrix.\n",
    "* **`argmax()`/`argmin()`:** Returns the index of maximum/minimum element."
   ]
  },
  {
   "cell_type": "markdown",
   "metadata": {},
   "source": [
    "### Instructions\n",
    "* Find Max temperature using `.max()` on `temperatures`\n",
    "* Find Min temperature using `.min()` on `temperatures`\n",
    "* Find Mean temperature using `.mean()` on `temperatures`\n",
    "* Find index of Max temperature using `.argmax()` on `temperatures`\n",
    "* Find index of Min temperature using `.argmin()` on `temperatures`"
   ]
  },
  {
   "cell_type": "code",
   "execution_count": 58,
   "metadata": {
    "ExecuteTime": {
     "end_time": "2017-09-25T09:53:11.771013Z",
     "start_time": "2017-09-25T09:53:11.757059Z"
    },
    "slideshow": {
     "slide_type": "subslide"
    }
   },
   "outputs": [
    {
     "name": "stdout",
     "output_type": "stream",
     "text": [
      "('Max: ', 33.0)\n",
      "('Min: ', -23.297)\n",
      "('Mean: ', 8.7969)\n",
      "('Argmax: ', 4143)\n",
      "('Argmin: ', 344)\n"
     ]
    }
   ],
   "source": [
    "# Find max, min, mean temperature\n",
    "print('Max: ', temperatures.max())\n",
    "print('Min: ', temperatures.min())\n",
    "print('Mean: ', temperatures.mean())\n",
    "\n",
    "# Find index of max/min temperature\n",
    "print('Argmax: ', temperatures.argmax())\n",
    "print('Argmin: ', temperatures.argmin())"
   ]
  },
  {
   "cell_type": "markdown",
   "metadata": {},
   "source": [
    "## Quiz\n",
    "1. Which of these best describes an array?\n",
    "\n",
    "```python\n",
    "a) A data structure that shows a hierarchical behavior\n",
    "b) Container of objects of similar types\n",
    "c) Container of objects of mixed types\n",
    "d) All of the mentioned\n",
    "Answer: b\n",
    "Explanation: Array contains elements only of the same type.\n",
    "```\n",
    "2. What gets printed?\n",
    "\n",
    "```python\n",
    "import numpy as np\n",
    "a = np.array([1,2,3,5,8])\n",
    "print (a.ndim)\n",
    "a) 0\n",
    "b) 1 \n",
    "c) 2\n",
    "d) 3\n",
    "e) 5\n",
    "Answer: b\n",
    "Explanation: ndim is the number of dimensions in the array and not the number of elements.\n",
    "```\n",
    "3. What is the output of the follwing code snippet?\n",
    "\n",
    "```python\n",
    "import numpy as np\n",
    "a = np.arange(12).reshape(3,4)\n",
    "print(a[2,1])\n",
    "Answer: 9\n",
    "```"
   ]
  },
  {
   "cell_type": "markdown",
   "metadata": {
    "slideshow": {
     "slide_type": "slide"
    }
   },
   "source": [
    "# Further Reading\n",
    "***\n",
    "- Python Official Documentation: https://docs.python.org/\n",
    "- NumPy documentation: http://www.numpy.org/"
   ]
  },
  {
   "cell_type": "markdown",
   "metadata": {
    "slideshow": {
     "slide_type": "slide"
    }
   },
   "source": [
    "# Thank You\n",
    "***\n",
    "### Coming up next...\n",
    "\n",
    "- Data Wrangling with Pandas\n",
    "\n",
    "For more queries - Reach out to academics@greyatom.com "
   ]
  }
 ],
 "metadata": {
  "celltoolbar": "Slideshow",
  "kernelspec": {
   "display_name": "Python 3",
   "language": "python",
   "name": "python3"
  },
  "language_info": {
   "codemirror_mode": {
    "name": "ipython",
    "version": 3
   },
   "file_extension": ".py",
   "mimetype": "text/x-python",
   "name": "python",
   "nbconvert_exporter": "python",
   "pygments_lexer": "ipython3",
   "version": "3.7.1"
  },
  "toc": {
   "colors": {
    "hover_highlight": "#DAA520",
    "running_highlight": "#FF0000",
    "selected_highlight": "#FFD700"
   },
   "moveMenuLeft": true,
   "nav_menu": {
    "height": "399px",
    "width": "252px"
   },
   "navigate_menu": true,
   "number_sections": true,
   "sideBar": true,
   "threshold": "2",
   "toc_cell": false,
   "toc_position": {
    "height": "664px",
    "left": "0px",
    "right": "1388px",
    "top": "107px",
    "width": "212px"
   },
   "toc_section_display": "block",
   "toc_window_display": false
  },
  "widgets": {
   "state": {},
   "version": "1.1.2"
  }
 },
 "nbformat": 4,
 "nbformat_minor": 2
}
