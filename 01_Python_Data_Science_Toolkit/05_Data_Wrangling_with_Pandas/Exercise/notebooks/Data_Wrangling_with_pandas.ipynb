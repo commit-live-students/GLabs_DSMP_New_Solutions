{
 "cells": [
  {
   "cell_type": "markdown",
   "metadata": {
    "slideshow": {
     "slide_type": "slide"
    }
   },
   "source": [
    "# Data Wrangling with Pandas"
   ]
  },
  {
   "cell_type": "markdown",
   "metadata": {
    "slideshow": {
     "slide_type": "subslide"
    }
   },
   "source": [
    "<img src=\"../images/python_pandas.jpg\" alt=\"Python\" style=\"width: 400px;\"/>"
   ]
  },
  {
   "cell_type": "markdown",
   "metadata": {
    "slideshow": {
     "slide_type": "slide"
    }
   },
   "source": [
    "# Program so far \n",
    "\n",
    "***\n",
    "\n",
    "- Python Basics\n",
    "- Python Programming Constructs\n",
    "- Data Structures\n",
    "- Functions\n",
    "- Object Oriented Programming in Python\n",
    "- NumPy\n",
    "- Pandas"
   ]
  },
  {
   "cell_type": "markdown",
   "metadata": {
    "slideshow": {
     "slide_type": "subslide"
    }
   },
   "source": [
    "# The Weather Dataset: Reading DataFrames from Files\n",
    "***\n",
    "The Weather Dataset is a time-series data set with per-hour information about the weather conditions at a particular location. It records Temperature, Dew Point Temperature, Relative Humidity, Wind Speed, Visibility, Pressure, and Conditions.\n",
    "\n",
    "<img src=\"../images/weather.jpg\" alt=\"Weather\" style=\"width: 200px;\"/>\n",
    "\n",
    "This data is available as a CSV file. We are going to use Pandas DataFrames and analyse this dataset.\n"
   ]
  },
  {
   "cell_type": "code",
   "execution_count": 1,
   "metadata": {
    "ExecuteTime": {
     "end_time": "2017-09-25T09:11:22.400390Z",
     "start_time": "2017-09-25T09:11:22.342923Z"
    },
    "scrolled": false,
    "slideshow": {
     "slide_type": "subslide"
    }
   },
   "outputs": [
    {
     "name": "stdout",
     "output_type": "stream",
     "text": [
      "Shape: (8784, 8)\n",
      "Index: RangeIndex(start=0, stop=8784, step=1)\n",
      "             Date/Time  Temp (C)  Dew Point Temp (C)  Rel Hum (%)  \\\n",
      "0  2012-01-01 00:00:00      -1.8                -3.9           86   \n",
      "1  2012-01-01 01:00:00      -1.8                -3.7           87   \n",
      "2  2012-01-01 02:00:00      -1.8                -3.4           89   \n",
      "3  2012-01-01 03:00:00      -1.5                -3.2           88   \n",
      "4  2012-01-01 04:00:00      -1.5                -3.3           88   \n",
      "\n",
      "   Wind Spd (km/h)  Visibility (km)  Stn Press (kPa)               Weather  \n",
      "0                4              8.0           101.24                   Fog  \n",
      "1                4              8.0           101.24                   Fog  \n",
      "2                7              4.0           101.26  Freezing Drizzle,Fog  \n",
      "3                6              4.0           101.27  Freezing Drizzle,Fog  \n",
      "4                7              4.8           101.23                   Fog  \n"
     ]
    }
   ],
   "source": [
    "# Read the data into a data frame\n",
    "import pandas as pd\n",
    "weather_df = pd.read_csv(\"../data/weather_2012.csv\") # \n",
    "\n",
    "print(\"Shape:\", weather_df.shape)\n",
    "print(\"Index:\", weather_df.index)\n",
    "print(weather_df.head(5))"
   ]
  },
  {
   "cell_type": "markdown",
   "metadata": {
    "ExecuteTime": {
     "end_time": "2017-09-22T12:41:32.876489Z",
     "start_time": "2017-09-22T12:41:32.860307Z"
    },
    "slideshow": {
     "slide_type": "subslide"
    }
   },
   "source": [
    "<img src=\"../images/icon/ppt-icons.png\" alt=\"mini project\n",
    "\" style=\"width: 100px;float:left; margin-right:15px\"/>\n",
    "<br /> \n",
    "\n",
    "## Mini - Challenge - 1\n",
    "***\n",
    "### Instructions\n",
    "* Find all the unique Wind Speed values recorded in the dataset"
   ]
  },
  {
   "cell_type": "code",
   "execution_count": 2,
   "metadata": {
    "ExecuteTime": {
     "end_time": "2017-09-22T13:28:59.183183Z",
     "start_time": "2017-09-22T13:28:59.177614Z"
    },
    "slideshow": {
     "slide_type": "fragment"
    }
   },
   "outputs": [
    {
     "data": {
      "text/plain": [
       "array([ 4,  7,  6,  9, 15, 13, 20, 22, 19, 24, 30, 35, 39, 32, 33, 26, 44,\n",
       "       43, 48, 37, 28, 17, 11,  0, 83, 70, 57, 46, 41, 52, 50, 63, 54,  2],\n",
       "      dtype=int64)"
      ]
     },
     "execution_count": 2,
     "metadata": {},
     "output_type": "execute_result"
    }
   ],
   "source": [
    "# Code your solution here\n",
    "weather_df[\"Wind Spd (km/h)\"].unique()"
   ]
  },
  {
   "cell_type": "markdown",
   "metadata": {
    "ExecuteTime": {
     "end_time": "2017-09-22T12:41:32.876489Z",
     "start_time": "2017-09-22T12:41:32.860307Z"
    },
    "slideshow": {
     "slide_type": "subslide"
    }
   },
   "source": [
    "<img src=\"../images/icon/ppt-icons.png\" alt=\"mini project\n",
    "\" style=\"width: 100px;float:left; margin-right:15px\"/>\n",
    "<br /> \n",
    "\n",
    "## Mini-Challenge - 2\n",
    "***\n",
    "### Instructions\n",
    "* Find the number of times when the weather was exactly 'Clear'"
   ]
  },
  {
   "cell_type": "markdown",
   "metadata": {
    "ExecuteTime": {
     "end_time": "2017-09-22T12:50:14.384725Z",
     "start_time": "2017-09-22T12:50:14.374665Z"
    },
    "slideshow": {
     "slide_type": "fragment"
    }
   },
   "source": [
    "<img src=\"../images/icon/Technical-Stuff.png\" alt=\"Technical-Stuff\" style=\"width: 100px;float:left; margin-right:15px\"/>\n",
    "<br /> \n",
    "\n",
    "### How can we get the count for Clear ?\n",
    "***\n",
    "\n",
    "In order to get only the number of times when the weather was exactly 'Clear' , we need to used Square brackets after `.value_counts` \n",
    "eg. `.value_counts()[3]`"
   ]
  },
  {
   "cell_type": "code",
   "execution_count": 23,
   "metadata": {},
   "outputs": [
    {
     "data": {
      "text/plain": [
       "1326"
      ]
     },
     "execution_count": 23,
     "metadata": {},
     "output_type": "execute_result"
    }
   ],
   "source": [
    "# code your solution\n",
    "weather_df[\"Weather\"].value_counts()['Clear']"
   ]
  },
  {
   "cell_type": "markdown",
   "metadata": {
    "ExecuteTime": {
     "end_time": "2017-09-22T12:41:32.876489Z",
     "start_time": "2017-09-22T12:41:32.860307Z"
    },
    "slideshow": {
     "slide_type": "subslide"
    }
   },
   "source": [
    "<img src=\"../images/icon/ppt-icons.png\" alt=\"mini project\n",
    "\" style=\"width: 100px;float:left; margin-right:15px\"/>\n",
    "<br /> \n",
    "\n",
    "## Mini-Challenge - 3\n",
    "***\n",
    "**Try one more time..!!**\n",
    "### Instructions\n",
    "* Find the number of times when the wind speed was exactly 4 km/h\n"
   ]
  },
  {
   "cell_type": "code",
   "execution_count": 18,
   "metadata": {
    "ExecuteTime": {
     "end_time": "2017-09-22T13:28:59.183183Z",
     "start_time": "2017-09-22T13:28:59.177614Z"
    },
    "slideshow": {
     "slide_type": "fragment"
    }
   },
   "outputs": [
    {
     "data": {
      "text/plain": [
       "474"
      ]
     },
     "execution_count": 18,
     "metadata": {},
     "output_type": "execute_result"
    }
   ],
   "source": [
    "# Your solution here\n",
    "weather_df[\"Wind Spd (km/h)\"].value_counts()[4]"
   ]
  },
  {
   "cell_type": "markdown",
   "metadata": {
    "ExecuteTime": {
     "end_time": "2017-09-22T12:41:32.876489Z",
     "start_time": "2017-09-22T12:41:32.860307Z"
    },
    "slideshow": {
     "slide_type": "subslide"
    }
   },
   "source": [
    "<img src=\"../images/icon/ppt-icons.png\" alt=\"mini project\n",
    "\" style=\"width: 100px;float:left; margin-right:15px\"/>\n",
    "<br /> \n",
    "\n",
    "## Mini-Challenge - 4\n",
    "***\n",
    "### Instructions\n",
    "* Get the first 3 alternating rows from the `weather_df` dataframe, but only the Visibility and Relative Humidity columns\n"
   ]
  },
  {
   "cell_type": "code",
   "execution_count": 5,
   "metadata": {
    "slideshow": {
     "slide_type": "fragment"
    }
   },
   "outputs": [
    {
     "data": {
      "text/html": [
       "<div>\n",
       "<style scoped>\n",
       "    .dataframe tbody tr th:only-of-type {\n",
       "        vertical-align: middle;\n",
       "    }\n",
       "\n",
       "    .dataframe tbody tr th {\n",
       "        vertical-align: top;\n",
       "    }\n",
       "\n",
       "    .dataframe thead th {\n",
       "        text-align: right;\n",
       "    }\n",
       "</style>\n",
       "<table border=\"1\" class=\"dataframe\">\n",
       "  <thead>\n",
       "    <tr style=\"text-align: right;\">\n",
       "      <th></th>\n",
       "      <th>Rel Hum (%)</th>\n",
       "      <th>Visibility (km)</th>\n",
       "    </tr>\n",
       "  </thead>\n",
       "  <tbody>\n",
       "    <tr>\n",
       "      <th>0</th>\n",
       "      <td>86</td>\n",
       "      <td>8.0</td>\n",
       "    </tr>\n",
       "    <tr>\n",
       "      <th>2</th>\n",
       "      <td>89</td>\n",
       "      <td>4.0</td>\n",
       "    </tr>\n",
       "    <tr>\n",
       "      <th>4</th>\n",
       "      <td>88</td>\n",
       "      <td>4.8</td>\n",
       "    </tr>\n",
       "  </tbody>\n",
       "</table>\n",
       "</div>"
      ],
      "text/plain": [
       "   Rel Hum (%)  Visibility (km)\n",
       "0           86              8.0\n",
       "2           89              4.0\n",
       "4           88              4.8"
      ]
     },
     "execution_count": 5,
     "metadata": {},
     "output_type": "execute_result"
    }
   ],
   "source": [
    "# Using loc or iloc\n",
    "# NOTE: slice is `:5:2`, not 6 !\n",
    "# first indexing\n",
    "df1 = weather_df[:5:2]\n",
    "\n",
    "# second indexing\n",
    "df2 = df1[['Rel Hum (%)', 'Visibility (km)']]\n",
    "df2"
   ]
  },
  {
   "cell_type": "markdown",
   "metadata": {
    "slideshow": {
     "slide_type": "slide"
    }
   },
   "source": [
    "<img src=\"../images/icon/Concept-Alert.png\" alt=\"Concept-Alert\" style=\"width: 100px;float:left; margin-right:15px\"/>\n",
    "<br /> \n",
    "\n",
    "## Filtering\n",
    "***\n",
    "\n",
    "![Filter](../images/filters1.jpg)\n",
    "Image Source:https://pixabay.com/en/yashica-filter-camera-vintage-711794/\n",
    "<br/>\n",
    "\n",
    "Anything that takes in data, processes it, and provides an output\n",
    "\n",
    "Input Data ⟶ Filter ⟶ Output Data\n",
    "\n",
    "Filtering rows of a DataFrame is an almost mandatory task for Data Analysis with Python. Given a Data Frame, we may not be interested in the entire dataset but only in specific rows."
   ]
  },
  {
   "cell_type": "markdown",
   "metadata": {
    "ExecuteTime": {
     "end_time": "2017-09-22T12:41:32.876489Z",
     "start_time": "2017-09-22T12:41:32.860307Z"
    },
    "slideshow": {
     "slide_type": "subslide"
    }
   },
   "source": [
    "### Instructions\n",
    "* Access `Weather` column of dataframe and apply `.lower()` function and then apply `.contains()` by passing parameter as `rain` and save it as `snowed_filter`\n",
    "* This will provide you boolean values to get the data pass the `snowed_filter` into dataframe `weather_df`\n",
    "***\n",
    "Whether or not it rain can be found out using the Weather column.\n",
    "\n",
    "Note that this routine does not filter a dataframe on its contents. The filter is applied to the labels of the index."
   ]
  },
  {
   "cell_type": "code",
   "execution_count": 6,
   "metadata": {
    "slideshow": {
     "slide_type": "fragment"
    }
   },
   "outputs": [
    {
     "data": {
      "text/plain": [
       "array(['Fog', 'Freezing Drizzle,Fog', 'Mostly Cloudy', 'Cloudy', 'Rain',\n",
       "       'Rain Showers', 'Mainly Clear', 'Snow Showers', 'Snow', 'Clear',\n",
       "       'Freezing Rain,Fog', 'Freezing Rain', 'Freezing Drizzle',\n",
       "       'Rain,Snow', 'Moderate Snow', 'Freezing Drizzle,Snow',\n",
       "       'Freezing Rain,Snow Grains', 'Snow,Blowing Snow', 'Freezing Fog',\n",
       "       'Haze', 'Rain,Fog', 'Drizzle,Fog', 'Drizzle',\n",
       "       'Freezing Drizzle,Haze', 'Freezing Rain,Haze', 'Snow,Haze',\n",
       "       'Snow,Fog', 'Snow,Ice Pellets', 'Rain,Haze', 'Thunderstorms,Rain',\n",
       "       'Thunderstorms,Rain Showers', 'Thunderstorms,Heavy Rain Showers',\n",
       "       'Thunderstorms,Rain Showers,Fog', 'Thunderstorms',\n",
       "       'Thunderstorms,Rain,Fog',\n",
       "       'Thunderstorms,Moderate Rain Showers,Fog', 'Rain Showers,Fog',\n",
       "       'Rain Showers,Snow Showers', 'Snow Pellets', 'Rain,Snow,Fog',\n",
       "       'Moderate Rain,Fog', 'Freezing Rain,Ice Pellets,Fog',\n",
       "       'Drizzle,Ice Pellets,Fog', 'Drizzle,Snow', 'Rain,Ice Pellets',\n",
       "       'Drizzle,Snow,Fog', 'Rain,Snow Grains', 'Rain,Snow,Ice Pellets',\n",
       "       'Snow Showers,Fog', 'Moderate Snow,Blowing Snow'], dtype=object)"
      ]
     },
     "execution_count": 6,
     "metadata": {},
     "output_type": "execute_result"
    }
   ],
   "source": [
    "weather_df['Weather'].unique()"
   ]
  },
  {
   "cell_type": "code",
   "execution_count": 7,
   "metadata": {
    "slideshow": {
     "slide_type": "subslide"
    }
   },
   "outputs": [
    {
     "data": {
      "text/html": [
       "<div>\n",
       "<style scoped>\n",
       "    .dataframe tbody tr th:only-of-type {\n",
       "        vertical-align: middle;\n",
       "    }\n",
       "\n",
       "    .dataframe tbody tr th {\n",
       "        vertical-align: top;\n",
       "    }\n",
       "\n",
       "    .dataframe thead th {\n",
       "        text-align: right;\n",
       "    }\n",
       "</style>\n",
       "<table border=\"1\" class=\"dataframe\">\n",
       "  <thead>\n",
       "    <tr style=\"text-align: right;\">\n",
       "      <th></th>\n",
       "      <th>Date/Time</th>\n",
       "      <th>Temp (C)</th>\n",
       "      <th>Dew Point Temp (C)</th>\n",
       "      <th>Rel Hum (%)</th>\n",
       "      <th>Wind Spd (km/h)</th>\n",
       "      <th>Visibility (km)</th>\n",
       "      <th>Stn Press (kPa)</th>\n",
       "      <th>Weather</th>\n",
       "    </tr>\n",
       "  </thead>\n",
       "  <tbody>\n",
       "    <tr>\n",
       "      <th>18</th>\n",
       "      <td>2012-01-01 18:00:00</td>\n",
       "      <td>3.8</td>\n",
       "      <td>1.0</td>\n",
       "      <td>82</td>\n",
       "      <td>15</td>\n",
       "      <td>12.9</td>\n",
       "      <td>99.74</td>\n",
       "      <td>Rain</td>\n",
       "    </tr>\n",
       "    <tr>\n",
       "      <th>19</th>\n",
       "      <td>2012-01-01 19:00:00</td>\n",
       "      <td>3.1</td>\n",
       "      <td>1.3</td>\n",
       "      <td>88</td>\n",
       "      <td>15</td>\n",
       "      <td>12.9</td>\n",
       "      <td>99.68</td>\n",
       "      <td>Rain</td>\n",
       "    </tr>\n",
       "    <tr>\n",
       "      <th>22</th>\n",
       "      <td>2012-01-01 22:00:00</td>\n",
       "      <td>4.4</td>\n",
       "      <td>1.9</td>\n",
       "      <td>84</td>\n",
       "      <td>24</td>\n",
       "      <td>19.3</td>\n",
       "      <td>99.32</td>\n",
       "      <td>Rain Showers</td>\n",
       "    </tr>\n",
       "    <tr>\n",
       "      <th>24</th>\n",
       "      <td>2012-01-02 00:00:00</td>\n",
       "      <td>5.2</td>\n",
       "      <td>1.5</td>\n",
       "      <td>77</td>\n",
       "      <td>35</td>\n",
       "      <td>25.0</td>\n",
       "      <td>99.26</td>\n",
       "      <td>Rain Showers</td>\n",
       "    </tr>\n",
       "    <tr>\n",
       "      <th>153</th>\n",
       "      <td>2012-01-07 09:00:00</td>\n",
       "      <td>-6.1</td>\n",
       "      <td>-8.7</td>\n",
       "      <td>82</td>\n",
       "      <td>7</td>\n",
       "      <td>9.7</td>\n",
       "      <td>100.15</td>\n",
       "      <td>Freezing Rain,Fog</td>\n",
       "    </tr>\n",
       "  </tbody>\n",
       "</table>\n",
       "</div>"
      ],
      "text/plain": [
       "               Date/Time  Temp (C)  Dew Point Temp (C)  Rel Hum (%)  \\\n",
       "18   2012-01-01 18:00:00       3.8                 1.0           82   \n",
       "19   2012-01-01 19:00:00       3.1                 1.3           88   \n",
       "22   2012-01-01 22:00:00       4.4                 1.9           84   \n",
       "24   2012-01-02 00:00:00       5.2                 1.5           77   \n",
       "153  2012-01-07 09:00:00      -6.1                -8.7           82   \n",
       "\n",
       "     Wind Spd (km/h)  Visibility (km)  Stn Press (kPa)            Weather  \n",
       "18                15             12.9            99.74               Rain  \n",
       "19                15             12.9            99.68               Rain  \n",
       "22                24             19.3            99.32       Rain Showers  \n",
       "24                35             25.0            99.26       Rain Showers  \n",
       "153                7              9.7           100.15  Freezing Rain,Fog  "
      ]
     },
     "execution_count": 7,
     "metadata": {},
     "output_type": "execute_result"
    }
   ],
   "source": [
    "# Basically, we want a way to \"filter out\" records that  have the word \"snow\" (case insensitive) in the last column\n",
    "\n",
    "snowed_filter = weather_df['Weather'].str.lower().str.contains('rain')\n",
    "weather_df[snowed_filter].head()"
   ]
  },
  {
   "cell_type": "markdown",
   "metadata": {
    "ExecuteTime": {
     "end_time": "2017-09-22T12:41:32.876489Z",
     "start_time": "2017-09-22T12:41:32.860307Z"
    },
    "slideshow": {
     "slide_type": "subslide"
    }
   },
   "source": [
    "###  Instructions\n",
    "* Find all instances when wind speed was above 35 and visibility was 25 and sve it as `df` and print it."
   ]
  },
  {
   "cell_type": "code",
   "execution_count": 8,
   "metadata": {
    "slideshow": {
     "slide_type": "fragment"
    }
   },
   "outputs": [
    {
     "data": {
      "text/html": [
       "<div>\n",
       "<style scoped>\n",
       "    .dataframe tbody tr th:only-of-type {\n",
       "        vertical-align: middle;\n",
       "    }\n",
       "\n",
       "    .dataframe tbody tr th {\n",
       "        vertical-align: top;\n",
       "    }\n",
       "\n",
       "    .dataframe thead th {\n",
       "        text-align: right;\n",
       "    }\n",
       "</style>\n",
       "<table border=\"1\" class=\"dataframe\">\n",
       "  <thead>\n",
       "    <tr style=\"text-align: right;\">\n",
       "      <th></th>\n",
       "      <th>Date/Time</th>\n",
       "      <th>Temp (C)</th>\n",
       "      <th>Dew Point Temp (C)</th>\n",
       "      <th>Rel Hum (%)</th>\n",
       "      <th>Wind Spd (km/h)</th>\n",
       "      <th>Visibility (km)</th>\n",
       "      <th>Stn Press (kPa)</th>\n",
       "      <th>Weather</th>\n",
       "    </tr>\n",
       "  </thead>\n",
       "  <tbody>\n",
       "    <tr>\n",
       "      <th>25</th>\n",
       "      <td>2012-01-02 01:00:00</td>\n",
       "      <td>4.6</td>\n",
       "      <td>0.0</td>\n",
       "      <td>72</td>\n",
       "      <td>39</td>\n",
       "      <td>25.0</td>\n",
       "      <td>99.26</td>\n",
       "      <td>Cloudy</td>\n",
       "    </tr>\n",
       "    <tr>\n",
       "      <th>409</th>\n",
       "      <td>2012-01-18 01:00:00</td>\n",
       "      <td>3.7</td>\n",
       "      <td>-2.1</td>\n",
       "      <td>66</td>\n",
       "      <td>83</td>\n",
       "      <td>25.0</td>\n",
       "      <td>98.36</td>\n",
       "      <td>Mostly Cloudy</td>\n",
       "    </tr>\n",
       "    <tr>\n",
       "      <th>410</th>\n",
       "      <td>2012-01-18 02:00:00</td>\n",
       "      <td>0.5</td>\n",
       "      <td>-4.0</td>\n",
       "      <td>72</td>\n",
       "      <td>70</td>\n",
       "      <td>25.0</td>\n",
       "      <td>98.62</td>\n",
       "      <td>Mostly Cloudy</td>\n",
       "    </tr>\n",
       "    <tr>\n",
       "      <th>411</th>\n",
       "      <td>2012-01-18 03:00:00</td>\n",
       "      <td>-3.5</td>\n",
       "      <td>-8.2</td>\n",
       "      <td>70</td>\n",
       "      <td>57</td>\n",
       "      <td>25.0</td>\n",
       "      <td>99.00</td>\n",
       "      <td>Mostly Cloudy</td>\n",
       "    </tr>\n",
       "    <tr>\n",
       "      <th>412</th>\n",
       "      <td>2012-01-18 04:00:00</td>\n",
       "      <td>-6.1</td>\n",
       "      <td>-10.9</td>\n",
       "      <td>69</td>\n",
       "      <td>48</td>\n",
       "      <td>25.0</td>\n",
       "      <td>99.36</td>\n",
       "      <td>Snow</td>\n",
       "    </tr>\n",
       "  </tbody>\n",
       "</table>\n",
       "</div>"
      ],
      "text/plain": [
       "               Date/Time  Temp (C)  Dew Point Temp (C)  Rel Hum (%)  \\\n",
       "25   2012-01-02 01:00:00       4.6                 0.0           72   \n",
       "409  2012-01-18 01:00:00       3.7                -2.1           66   \n",
       "410  2012-01-18 02:00:00       0.5                -4.0           72   \n",
       "411  2012-01-18 03:00:00      -3.5                -8.2           70   \n",
       "412  2012-01-18 04:00:00      -6.1               -10.9           69   \n",
       "\n",
       "     Wind Spd (km/h)  Visibility (km)  Stn Press (kPa)        Weather  \n",
       "25                39             25.0            99.26         Cloudy  \n",
       "409               83             25.0            98.36  Mostly Cloudy  \n",
       "410               70             25.0            98.62  Mostly Cloudy  \n",
       "411               57             25.0            99.00  Mostly Cloudy  \n",
       "412               48             25.0            99.36           Snow  "
      ]
     },
     "execution_count": 8,
     "metadata": {},
     "output_type": "execute_result"
    }
   ],
   "source": [
    "df = weather_df[(weather_df['Wind Spd (km/h)'] > 35) & (weather_df['Visibility (km)']== 25)]\n",
    "df.head()"
   ]
  },
  {
   "cell_type": "markdown",
   "metadata": {
    "slideshow": {
     "slide_type": "slide"
    }
   },
   "source": [
    "<img src=\"../images/icon/Technical-Stuff.png\" alt=\"Concept-Alert\" style=\"width: 100px;float:left; margin-right:15px\"/>\n",
    "<br /> \n",
    "\n",
    "# Pivot Tables : Excellent way to Summarize your Data!\n",
    "***\n",
    "- A pivot table is a tool that allows you to reorganize and summarize selected columns and rows of data in a dataframe <br/><br/>\n",
    "\n",
    "- Pivot tables provide an easy way to subset by one column and then apply a calculation like a sum or a mean <br/><br/>\n",
    "\n",
    "- Pivot tables first groups and only then applies a calculation"
   ]
  },
  {
   "cell_type": "markdown",
   "metadata": {},
   "source": [
    "### Instructions\n",
    "* A dictionary containing data is already defined in the variable `data`.\n",
    "* Create a dataframe using dictionary `data` and save it as `df`\n",
    "* Print the `df`"
   ]
  },
  {
   "cell_type": "code",
   "execution_count": 9,
   "metadata": {
    "slideshow": {
     "slide_type": "subslide"
    }
   },
   "outputs": [
    {
     "data": {
      "text/html": [
       "<div>\n",
       "<style scoped>\n",
       "    .dataframe tbody tr th:only-of-type {\n",
       "        vertical-align: middle;\n",
       "    }\n",
       "\n",
       "    .dataframe tbody tr th {\n",
       "        vertical-align: top;\n",
       "    }\n",
       "\n",
       "    .dataframe thead th {\n",
       "        text-align: right;\n",
       "    }\n",
       "</style>\n",
       "<table border=\"1\" class=\"dataframe\">\n",
       "  <thead>\n",
       "    <tr style=\"text-align: right;\">\n",
       "      <th></th>\n",
       "      <th>A</th>\n",
       "      <th>B</th>\n",
       "      <th>C</th>\n",
       "      <th>D</th>\n",
       "    </tr>\n",
       "  </thead>\n",
       "  <tbody>\n",
       "    <tr>\n",
       "      <th>0</th>\n",
       "      <td>foo</td>\n",
       "      <td>one</td>\n",
       "      <td>x</td>\n",
       "      <td>1</td>\n",
       "    </tr>\n",
       "    <tr>\n",
       "      <th>1</th>\n",
       "      <td>foo</td>\n",
       "      <td>one</td>\n",
       "      <td>y</td>\n",
       "      <td>3</td>\n",
       "    </tr>\n",
       "    <tr>\n",
       "      <th>2</th>\n",
       "      <td>foo</td>\n",
       "      <td>two</td>\n",
       "      <td>x</td>\n",
       "      <td>2</td>\n",
       "    </tr>\n",
       "    <tr>\n",
       "      <th>3</th>\n",
       "      <td>bar</td>\n",
       "      <td>two</td>\n",
       "      <td>y</td>\n",
       "      <td>5</td>\n",
       "    </tr>\n",
       "    <tr>\n",
       "      <th>4</th>\n",
       "      <td>bar</td>\n",
       "      <td>one</td>\n",
       "      <td>x</td>\n",
       "      <td>4</td>\n",
       "    </tr>\n",
       "    <tr>\n",
       "      <th>5</th>\n",
       "      <td>bar</td>\n",
       "      <td>one</td>\n",
       "      <td>y</td>\n",
       "      <td>1</td>\n",
       "    </tr>\n",
       "  </tbody>\n",
       "</table>\n",
       "</div>"
      ],
      "text/plain": [
       "     A    B  C  D\n",
       "0  foo  one  x  1\n",
       "1  foo  one  y  3\n",
       "2  foo  two  x  2\n",
       "3  bar  two  y  5\n",
       "4  bar  one  x  4\n",
       "5  bar  one  y  1"
      ]
     },
     "execution_count": 9,
     "metadata": {},
     "output_type": "execute_result"
    }
   ],
   "source": [
    "data = {\n",
    "    'A': ['foo','foo','foo','bar','bar','bar'],\n",
    "    'B': ['one','one','two','two','one','one'],\n",
    "    'C': ['x','y','x','y','x','y'],\n",
    "    'D': [1, 3, 2, 5, 4, 1]\n",
    "}\n",
    "\n",
    "df = pd.DataFrame(data)\n",
    "df"
   ]
  },
  {
   "cell_type": "markdown",
   "metadata": {},
   "source": [
    "### Instructions\n",
    "* Use .pivot_table() on the dataframe with index as `A`, values as `D` , columns as `B` and  aggfunc as `np.sum`. Save it as `pivot_df` and print it out"
   ]
  },
  {
   "cell_type": "code",
   "execution_count": 10,
   "metadata": {
    "scrolled": true,
    "slideshow": {
     "slide_type": "subslide"
    }
   },
   "outputs": [
    {
     "data": {
      "text/html": [
       "<div>\n",
       "<style scoped>\n",
       "    .dataframe tbody tr th:only-of-type {\n",
       "        vertical-align: middle;\n",
       "    }\n",
       "\n",
       "    .dataframe tbody tr th {\n",
       "        vertical-align: top;\n",
       "    }\n",
       "\n",
       "    .dataframe thead th {\n",
       "        text-align: right;\n",
       "    }\n",
       "</style>\n",
       "<table border=\"1\" class=\"dataframe\">\n",
       "  <thead>\n",
       "    <tr style=\"text-align: right;\">\n",
       "      <th>B</th>\n",
       "      <th>one</th>\n",
       "      <th>two</th>\n",
       "    </tr>\n",
       "    <tr>\n",
       "      <th>A</th>\n",
       "      <th></th>\n",
       "      <th></th>\n",
       "    </tr>\n",
       "  </thead>\n",
       "  <tbody>\n",
       "    <tr>\n",
       "      <th>bar</th>\n",
       "      <td>5</td>\n",
       "      <td>5</td>\n",
       "    </tr>\n",
       "    <tr>\n",
       "      <th>foo</th>\n",
       "      <td>4</td>\n",
       "      <td>2</td>\n",
       "    </tr>\n",
       "  </tbody>\n",
       "</table>\n",
       "</div>"
      ],
      "text/plain": [
       "B    one  two\n",
       "A            \n",
       "bar    5    5\n",
       "foo    4    2"
      ]
     },
     "execution_count": 10,
     "metadata": {},
     "output_type": "execute_result"
    }
   ],
   "source": [
    "import numpy as np\n",
    "pivot_df = df.pivot_table(\n",
    "                values='D',      # We want to aggregate the values of which column?\n",
    "                index='A',       # We want to use which column as the new index?\n",
    "                columns='B',   # We want to use the values of which column as the new columns? (optional)\n",
    "                aggfunc=np.sum)  # What aggregation function to use ?\n",
    "\n",
    "\n",
    "pivot_df"
   ]
  },
  {
   "cell_type": "markdown",
   "metadata": {
    "ExecuteTime": {
     "end_time": "2017-09-22T12:41:32.876489Z",
     "start_time": "2017-09-22T12:41:32.860307Z"
    },
    "slideshow": {
     "slide_type": "subslide"
    }
   },
   "source": [
    "### Instructions\n",
    "* What is the mean Dew Point temperature recorded by month?\n",
    "* Use .pivot_table() on the dataframe `weather_df` with index as `weather_df.index`, values as `Dew Point Temp (C)` , and  aggfunc as `np.mean`. Save it as `mean_dew_temperature_df` and print it out"
   ]
  },
  {
   "cell_type": "code",
   "execution_count": 11,
   "metadata": {
    "scrolled": false,
    "slideshow": {
     "slide_type": "fragment"
    }
   },
   "outputs": [
    {
     "data": {
      "text/html": [
       "<div>\n",
       "<style scoped>\n",
       "    .dataframe tbody tr th:only-of-type {\n",
       "        vertical-align: middle;\n",
       "    }\n",
       "\n",
       "    .dataframe tbody tr th {\n",
       "        vertical-align: top;\n",
       "    }\n",
       "\n",
       "    .dataframe thead th {\n",
       "        text-align: right;\n",
       "    }\n",
       "</style>\n",
       "<table border=\"1\" class=\"dataframe\">\n",
       "  <thead>\n",
       "    <tr style=\"text-align: right;\">\n",
       "      <th></th>\n",
       "      <th>Dew Point Temp (C)</th>\n",
       "    </tr>\n",
       "    <tr>\n",
       "      <th>Date/Time</th>\n",
       "      <th></th>\n",
       "    </tr>\n",
       "  </thead>\n",
       "  <tbody>\n",
       "    <tr>\n",
       "      <th>1</th>\n",
       "      <td>-12.294758</td>\n",
       "    </tr>\n",
       "    <tr>\n",
       "      <th>2</th>\n",
       "      <td>-9.221695</td>\n",
       "    </tr>\n",
       "    <tr>\n",
       "      <th>3</th>\n",
       "      <td>-3.488575</td>\n",
       "    </tr>\n",
       "    <tr>\n",
       "      <th>4</th>\n",
       "      <td>-1.934583</td>\n",
       "    </tr>\n",
       "    <tr>\n",
       "      <th>5</th>\n",
       "      <td>8.080780</td>\n",
       "    </tr>\n",
       "    <tr>\n",
       "      <th>6</th>\n",
       "      <td>11.738056</td>\n",
       "    </tr>\n",
       "    <tr>\n",
       "      <th>7</th>\n",
       "      <td>14.595430</td>\n",
       "    </tr>\n",
       "    <tr>\n",
       "      <th>8</th>\n",
       "      <td>15.644758</td>\n",
       "    </tr>\n",
       "    <tr>\n",
       "      <th>9</th>\n",
       "      <td>10.757917</td>\n",
       "    </tr>\n",
       "    <tr>\n",
       "      <th>10</th>\n",
       "      <td>6.533468</td>\n",
       "    </tr>\n",
       "    <tr>\n",
       "      <th>11</th>\n",
       "      <td>-4.179306</td>\n",
       "    </tr>\n",
       "    <tr>\n",
       "      <th>12</th>\n",
       "      <td>-6.129032</td>\n",
       "    </tr>\n",
       "  </tbody>\n",
       "</table>\n",
       "</div>"
      ],
      "text/plain": [
       "           Dew Point Temp (C)\n",
       "Date/Time                    \n",
       "1                  -12.294758\n",
       "2                   -9.221695\n",
       "3                   -3.488575\n",
       "4                   -1.934583\n",
       "5                    8.080780\n",
       "6                   11.738056\n",
       "7                   14.595430\n",
       "8                   15.644758\n",
       "9                   10.757917\n",
       "10                   6.533468\n",
       "11                  -4.179306\n",
       "12                  -6.129032"
      ]
     },
     "execution_count": 11,
     "metadata": {},
     "output_type": "execute_result"
    }
   ],
   "source": [
    "weather_df['Date/Time'] = pd.to_datetime(weather_df['Date/Time'])\n",
    "mean_dew_temperature_df = weather_df.pivot_table(values='Dew Point Temp (C)', index=weather_df['Date/Time'].dt.month, aggfunc=np.mean)\n",
    "mean_dew_temperature_df"
   ]
  },
  {
   "cell_type": "markdown",
   "metadata": {
    "slideshow": {
     "slide_type": "slide"
    }
   },
   "source": [
    "<img src=\"../images/icon/Technical-Stuff.png\" alt=\"Concept-Alert\" style=\"width: 100px;float:left; margin-right:15px\"/>\n",
    "<br /> \n",
    "\n",
    "# Group By\n",
    "***\n",
    "The groupby method allows you to group rows of data together and call aggregate functions that applies to the whole group.\n",
    "\n",
    "Any groupby operation involves one of the following operations on the original object. They are −\n",
    "- Splitting the Object\n",
    "- Applying a function\n",
    "- Combining the results\n",
    "\n",
    "In many situations, we split the data into sets and we apply some functionality on each subset. In the apply functionality, we can perform the following operations −\n",
    "\n",
    "- Aggregation − computing a summary statistic\n",
    "- Transformation − perform some group-specific operation\n",
    "- Filtration − discarding the data with some condition"
   ]
  },
  {
   "cell_type": "markdown",
   "metadata": {},
   "source": [
    "### Instructions\n",
    "* Use `.groupby()` on `Weather` column  and aggregate the mean values of each column for different types of weather using `.mean()`"
   ]
  },
  {
   "cell_type": "code",
   "execution_count": 80,
   "metadata": {
    "scrolled": true,
    "slideshow": {
     "slide_type": "subslide"
    }
   },
   "outputs": [
    {
     "data": {
      "text/html": [
       "<div>\n",
       "<style scoped>\n",
       "    .dataframe tbody tr th:only-of-type {\n",
       "        vertical-align: middle;\n",
       "    }\n",
       "\n",
       "    .dataframe tbody tr th {\n",
       "        vertical-align: top;\n",
       "    }\n",
       "\n",
       "    .dataframe thead th {\n",
       "        text-align: right;\n",
       "    }\n",
       "</style>\n",
       "<table border=\"1\" class=\"dataframe\">\n",
       "  <thead>\n",
       "    <tr style=\"text-align: right;\">\n",
       "      <th></th>\n",
       "      <th>Temp (C)</th>\n",
       "      <th>Dew Point Temp (C)</th>\n",
       "      <th>Rel Hum (%)</th>\n",
       "      <th>Wind Spd (km/h)</th>\n",
       "      <th>Visibility (km)</th>\n",
       "      <th>Stn Press (kPa)</th>\n",
       "    </tr>\n",
       "    <tr>\n",
       "      <th>Weather</th>\n",
       "      <th></th>\n",
       "      <th></th>\n",
       "      <th></th>\n",
       "      <th></th>\n",
       "      <th></th>\n",
       "      <th></th>\n",
       "    </tr>\n",
       "  </thead>\n",
       "  <tbody>\n",
       "    <tr>\n",
       "      <th>Clear</th>\n",
       "      <td>6.825716</td>\n",
       "      <td>0.089367</td>\n",
       "      <td>64.497738</td>\n",
       "      <td>10.557315</td>\n",
       "      <td>30.153243</td>\n",
       "      <td>101.587443</td>\n",
       "    </tr>\n",
       "    <tr>\n",
       "      <th>Cloudy</th>\n",
       "      <td>7.970544</td>\n",
       "      <td>2.375810</td>\n",
       "      <td>69.592593</td>\n",
       "      <td>16.127315</td>\n",
       "      <td>26.625752</td>\n",
       "      <td>100.911441</td>\n",
       "    </tr>\n",
       "    <tr>\n",
       "      <th>Drizzle</th>\n",
       "      <td>7.353659</td>\n",
       "      <td>5.504878</td>\n",
       "      <td>88.243902</td>\n",
       "      <td>16.097561</td>\n",
       "      <td>17.931707</td>\n",
       "      <td>100.435366</td>\n",
       "    </tr>\n",
       "    <tr>\n",
       "      <th>Drizzle,Fog</th>\n",
       "      <td>8.067500</td>\n",
       "      <td>7.033750</td>\n",
       "      <td>93.275000</td>\n",
       "      <td>11.862500</td>\n",
       "      <td>5.257500</td>\n",
       "      <td>100.786625</td>\n",
       "    </tr>\n",
       "    <tr>\n",
       "      <th>Drizzle,Ice Pellets,Fog</th>\n",
       "      <td>0.400000</td>\n",
       "      <td>-0.700000</td>\n",
       "      <td>92.000000</td>\n",
       "      <td>20.000000</td>\n",
       "      <td>4.000000</td>\n",
       "      <td>100.790000</td>\n",
       "    </tr>\n",
       "    <tr>\n",
       "      <th>Drizzle,Snow</th>\n",
       "      <td>1.050000</td>\n",
       "      <td>0.150000</td>\n",
       "      <td>93.500000</td>\n",
       "      <td>14.000000</td>\n",
       "      <td>10.500000</td>\n",
       "      <td>100.890000</td>\n",
       "    </tr>\n",
       "    <tr>\n",
       "      <th>Drizzle,Snow,Fog</th>\n",
       "      <td>0.693333</td>\n",
       "      <td>0.120000</td>\n",
       "      <td>95.866667</td>\n",
       "      <td>15.533333</td>\n",
       "      <td>5.513333</td>\n",
       "      <td>99.281333</td>\n",
       "    </tr>\n",
       "    <tr>\n",
       "      <th>Fog</th>\n",
       "      <td>4.303333</td>\n",
       "      <td>3.159333</td>\n",
       "      <td>92.286667</td>\n",
       "      <td>7.946667</td>\n",
       "      <td>6.248000</td>\n",
       "      <td>101.184067</td>\n",
       "    </tr>\n",
       "    <tr>\n",
       "      <th>Freezing Drizzle</th>\n",
       "      <td>-5.657143</td>\n",
       "      <td>-8.000000</td>\n",
       "      <td>83.571429</td>\n",
       "      <td>16.571429</td>\n",
       "      <td>9.200000</td>\n",
       "      <td>100.202857</td>\n",
       "    </tr>\n",
       "    <tr>\n",
       "      <th>Freezing Drizzle,Fog</th>\n",
       "      <td>-2.533333</td>\n",
       "      <td>-4.183333</td>\n",
       "      <td>88.500000</td>\n",
       "      <td>17.000000</td>\n",
       "      <td>5.266667</td>\n",
       "      <td>100.441667</td>\n",
       "    </tr>\n",
       "    <tr>\n",
       "      <th>Freezing Drizzle,Haze</th>\n",
       "      <td>-5.433333</td>\n",
       "      <td>-8.000000</td>\n",
       "      <td>82.000000</td>\n",
       "      <td>10.333333</td>\n",
       "      <td>2.666667</td>\n",
       "      <td>100.316667</td>\n",
       "    </tr>\n",
       "    <tr>\n",
       "      <th>Freezing Drizzle,Snow</th>\n",
       "      <td>-5.109091</td>\n",
       "      <td>-7.072727</td>\n",
       "      <td>86.090909</td>\n",
       "      <td>16.272727</td>\n",
       "      <td>5.872727</td>\n",
       "      <td>100.520909</td>\n",
       "    </tr>\n",
       "    <tr>\n",
       "      <th>Freezing Fog</th>\n",
       "      <td>-7.575000</td>\n",
       "      <td>-9.250000</td>\n",
       "      <td>87.750000</td>\n",
       "      <td>4.750000</td>\n",
       "      <td>0.650000</td>\n",
       "      <td>102.320000</td>\n",
       "    </tr>\n",
       "    <tr>\n",
       "      <th>Freezing Rain</th>\n",
       "      <td>-3.885714</td>\n",
       "      <td>-6.078571</td>\n",
       "      <td>84.642857</td>\n",
       "      <td>19.214286</td>\n",
       "      <td>8.242857</td>\n",
       "      <td>99.647143</td>\n",
       "    </tr>\n",
       "    <tr>\n",
       "      <th>Freezing Rain,Fog</th>\n",
       "      <td>-2.225000</td>\n",
       "      <td>-3.750000</td>\n",
       "      <td>89.500000</td>\n",
       "      <td>15.500000</td>\n",
       "      <td>7.550000</td>\n",
       "      <td>99.945000</td>\n",
       "    </tr>\n",
       "    <tr>\n",
       "      <th>Freezing Rain,Haze</th>\n",
       "      <td>-4.900000</td>\n",
       "      <td>-7.450000</td>\n",
       "      <td>82.500000</td>\n",
       "      <td>7.500000</td>\n",
       "      <td>2.400000</td>\n",
       "      <td>100.375000</td>\n",
       "    </tr>\n",
       "    <tr>\n",
       "      <th>Freezing Rain,Ice Pellets,Fog</th>\n",
       "      <td>-2.600000</td>\n",
       "      <td>-3.700000</td>\n",
       "      <td>92.000000</td>\n",
       "      <td>28.000000</td>\n",
       "      <td>8.000000</td>\n",
       "      <td>100.950000</td>\n",
       "    </tr>\n",
       "    <tr>\n",
       "      <th>Freezing Rain,Snow Grains</th>\n",
       "      <td>-5.000000</td>\n",
       "      <td>-7.300000</td>\n",
       "      <td>84.000000</td>\n",
       "      <td>32.000000</td>\n",
       "      <td>4.800000</td>\n",
       "      <td>98.560000</td>\n",
       "    </tr>\n",
       "    <tr>\n",
       "      <th>Haze</th>\n",
       "      <td>-0.200000</td>\n",
       "      <td>-2.975000</td>\n",
       "      <td>81.625000</td>\n",
       "      <td>10.437500</td>\n",
       "      <td>7.831250</td>\n",
       "      <td>101.482500</td>\n",
       "    </tr>\n",
       "    <tr>\n",
       "      <th>Mainly Clear</th>\n",
       "      <td>12.558927</td>\n",
       "      <td>4.581671</td>\n",
       "      <td>60.667142</td>\n",
       "      <td>14.144824</td>\n",
       "      <td>34.264862</td>\n",
       "      <td>101.248832</td>\n",
       "    </tr>\n",
       "    <tr>\n",
       "      <th>Moderate Rain,Fog</th>\n",
       "      <td>1.700000</td>\n",
       "      <td>0.800000</td>\n",
       "      <td>94.000000</td>\n",
       "      <td>17.000000</td>\n",
       "      <td>6.400000</td>\n",
       "      <td>99.980000</td>\n",
       "    </tr>\n",
       "    <tr>\n",
       "      <th>Moderate Snow</th>\n",
       "      <td>-5.525000</td>\n",
       "      <td>-7.250000</td>\n",
       "      <td>87.750000</td>\n",
       "      <td>33.750000</td>\n",
       "      <td>0.750000</td>\n",
       "      <td>100.275000</td>\n",
       "    </tr>\n",
       "    <tr>\n",
       "      <th>Moderate Snow,Blowing Snow</th>\n",
       "      <td>-5.450000</td>\n",
       "      <td>-6.500000</td>\n",
       "      <td>92.500000</td>\n",
       "      <td>40.000000</td>\n",
       "      <td>0.600000</td>\n",
       "      <td>100.570000</td>\n",
       "    </tr>\n",
       "    <tr>\n",
       "      <th>Mostly Cloudy</th>\n",
       "      <td>10.574287</td>\n",
       "      <td>3.131174</td>\n",
       "      <td>62.102465</td>\n",
       "      <td>15.813920</td>\n",
       "      <td>31.253842</td>\n",
       "      <td>101.025288</td>\n",
       "    </tr>\n",
       "    <tr>\n",
       "      <th>Rain</th>\n",
       "      <td>9.786275</td>\n",
       "      <td>7.042810</td>\n",
       "      <td>83.624183</td>\n",
       "      <td>19.254902</td>\n",
       "      <td>18.856536</td>\n",
       "      <td>100.233333</td>\n",
       "    </tr>\n",
       "    <tr>\n",
       "      <th>Rain Showers</th>\n",
       "      <td>13.722340</td>\n",
       "      <td>9.187766</td>\n",
       "      <td>75.159574</td>\n",
       "      <td>17.132979</td>\n",
       "      <td>22.816489</td>\n",
       "      <td>100.404043</td>\n",
       "    </tr>\n",
       "    <tr>\n",
       "      <th>Rain Showers,Fog</th>\n",
       "      <td>12.800000</td>\n",
       "      <td>12.100000</td>\n",
       "      <td>96.000000</td>\n",
       "      <td>13.000000</td>\n",
       "      <td>6.400000</td>\n",
       "      <td>99.830000</td>\n",
       "    </tr>\n",
       "    <tr>\n",
       "      <th>Rain Showers,Snow Showers</th>\n",
       "      <td>2.150000</td>\n",
       "      <td>-1.500000</td>\n",
       "      <td>76.500000</td>\n",
       "      <td>22.500000</td>\n",
       "      <td>21.700000</td>\n",
       "      <td>101.100000</td>\n",
       "    </tr>\n",
       "    <tr>\n",
       "      <th>Rain,Fog</th>\n",
       "      <td>8.273276</td>\n",
       "      <td>7.219828</td>\n",
       "      <td>93.189655</td>\n",
       "      <td>14.793103</td>\n",
       "      <td>6.873276</td>\n",
       "      <td>100.500862</td>\n",
       "    </tr>\n",
       "    <tr>\n",
       "      <th>Rain,Haze</th>\n",
       "      <td>4.633333</td>\n",
       "      <td>2.066667</td>\n",
       "      <td>83.333333</td>\n",
       "      <td>11.666667</td>\n",
       "      <td>6.700000</td>\n",
       "      <td>100.540000</td>\n",
       "    </tr>\n",
       "    <tr>\n",
       "      <th>Rain,Ice Pellets</th>\n",
       "      <td>0.600000</td>\n",
       "      <td>-0.600000</td>\n",
       "      <td>92.000000</td>\n",
       "      <td>24.000000</td>\n",
       "      <td>9.700000</td>\n",
       "      <td>100.120000</td>\n",
       "    </tr>\n",
       "    <tr>\n",
       "      <th>Rain,Snow</th>\n",
       "      <td>1.055556</td>\n",
       "      <td>-0.566667</td>\n",
       "      <td>89.000000</td>\n",
       "      <td>28.388889</td>\n",
       "      <td>11.672222</td>\n",
       "      <td>99.951111</td>\n",
       "    </tr>\n",
       "    <tr>\n",
       "      <th>Rain,Snow Grains</th>\n",
       "      <td>1.900000</td>\n",
       "      <td>-2.100000</td>\n",
       "      <td>75.000000</td>\n",
       "      <td>26.000000</td>\n",
       "      <td>25.000000</td>\n",
       "      <td>100.600000</td>\n",
       "    </tr>\n",
       "    <tr>\n",
       "      <th>Rain,Snow,Fog</th>\n",
       "      <td>0.800000</td>\n",
       "      <td>0.300000</td>\n",
       "      <td>96.000000</td>\n",
       "      <td>9.000000</td>\n",
       "      <td>6.400000</td>\n",
       "      <td>100.730000</td>\n",
       "    </tr>\n",
       "    <tr>\n",
       "      <th>Rain,Snow,Ice Pellets</th>\n",
       "      <td>1.100000</td>\n",
       "      <td>-0.175000</td>\n",
       "      <td>91.500000</td>\n",
       "      <td>23.250000</td>\n",
       "      <td>6.000000</td>\n",
       "      <td>100.105000</td>\n",
       "    </tr>\n",
       "    <tr>\n",
       "      <th>Snow</th>\n",
       "      <td>-4.524103</td>\n",
       "      <td>-7.623333</td>\n",
       "      <td>79.307692</td>\n",
       "      <td>20.038462</td>\n",
       "      <td>11.171795</td>\n",
       "      <td>100.536103</td>\n",
       "    </tr>\n",
       "    <tr>\n",
       "      <th>Snow Pellets</th>\n",
       "      <td>0.700000</td>\n",
       "      <td>-6.400000</td>\n",
       "      <td>59.000000</td>\n",
       "      <td>35.000000</td>\n",
       "      <td>2.400000</td>\n",
       "      <td>99.700000</td>\n",
       "    </tr>\n",
       "    <tr>\n",
       "      <th>Snow Showers</th>\n",
       "      <td>-3.506667</td>\n",
       "      <td>-7.866667</td>\n",
       "      <td>72.350000</td>\n",
       "      <td>19.233333</td>\n",
       "      <td>20.158333</td>\n",
       "      <td>100.963500</td>\n",
       "    </tr>\n",
       "    <tr>\n",
       "      <th>Snow Showers,Fog</th>\n",
       "      <td>-10.675000</td>\n",
       "      <td>-11.900000</td>\n",
       "      <td>90.750000</td>\n",
       "      <td>13.750000</td>\n",
       "      <td>7.025000</td>\n",
       "      <td>101.292500</td>\n",
       "    </tr>\n",
       "    <tr>\n",
       "      <th>Snow,Blowing Snow</th>\n",
       "      <td>-5.410526</td>\n",
       "      <td>-7.621053</td>\n",
       "      <td>84.473684</td>\n",
       "      <td>34.842105</td>\n",
       "      <td>4.105263</td>\n",
       "      <td>99.704737</td>\n",
       "    </tr>\n",
       "    <tr>\n",
       "      <th>Snow,Fog</th>\n",
       "      <td>-5.075676</td>\n",
       "      <td>-6.364865</td>\n",
       "      <td>90.675676</td>\n",
       "      <td>17.324324</td>\n",
       "      <td>4.537838</td>\n",
       "      <td>100.688649</td>\n",
       "    </tr>\n",
       "    <tr>\n",
       "      <th>Snow,Haze</th>\n",
       "      <td>-4.020000</td>\n",
       "      <td>-6.860000</td>\n",
       "      <td>80.600000</td>\n",
       "      <td>5.000000</td>\n",
       "      <td>4.640000</td>\n",
       "      <td>100.782000</td>\n",
       "    </tr>\n",
       "    <tr>\n",
       "      <th>Snow,Ice Pellets</th>\n",
       "      <td>-1.883333</td>\n",
       "      <td>-3.666667</td>\n",
       "      <td>87.666667</td>\n",
       "      <td>23.833333</td>\n",
       "      <td>7.416667</td>\n",
       "      <td>100.548333</td>\n",
       "    </tr>\n",
       "    <tr>\n",
       "      <th>Thunderstorms</th>\n",
       "      <td>24.150000</td>\n",
       "      <td>19.750000</td>\n",
       "      <td>77.000000</td>\n",
       "      <td>7.500000</td>\n",
       "      <td>24.550000</td>\n",
       "      <td>100.230000</td>\n",
       "    </tr>\n",
       "    <tr>\n",
       "      <th>Thunderstorms,Heavy Rain Showers</th>\n",
       "      <td>10.900000</td>\n",
       "      <td>9.000000</td>\n",
       "      <td>88.000000</td>\n",
       "      <td>9.000000</td>\n",
       "      <td>2.400000</td>\n",
       "      <td>100.260000</td>\n",
       "    </tr>\n",
       "    <tr>\n",
       "      <th>Thunderstorms,Moderate Rain Showers,Fog</th>\n",
       "      <td>19.600000</td>\n",
       "      <td>18.500000</td>\n",
       "      <td>93.000000</td>\n",
       "      <td>15.000000</td>\n",
       "      <td>3.200000</td>\n",
       "      <td>100.010000</td>\n",
       "    </tr>\n",
       "    <tr>\n",
       "      <th>Thunderstorms,Rain</th>\n",
       "      <td>20.433333</td>\n",
       "      <td>18.533333</td>\n",
       "      <td>89.000000</td>\n",
       "      <td>15.666667</td>\n",
       "      <td>19.833333</td>\n",
       "      <td>100.420000</td>\n",
       "    </tr>\n",
       "    <tr>\n",
       "      <th>Thunderstorms,Rain Showers</th>\n",
       "      <td>20.037500</td>\n",
       "      <td>17.618750</td>\n",
       "      <td>86.375000</td>\n",
       "      <td>18.312500</td>\n",
       "      <td>15.893750</td>\n",
       "      <td>100.233750</td>\n",
       "    </tr>\n",
       "    <tr>\n",
       "      <th>Thunderstorms,Rain Showers,Fog</th>\n",
       "      <td>21.600000</td>\n",
       "      <td>18.700000</td>\n",
       "      <td>84.000000</td>\n",
       "      <td>19.666667</td>\n",
       "      <td>9.700000</td>\n",
       "      <td>100.063333</td>\n",
       "    </tr>\n",
       "    <tr>\n",
       "      <th>Thunderstorms,Rain,Fog</th>\n",
       "      <td>20.600000</td>\n",
       "      <td>18.600000</td>\n",
       "      <td>88.000000</td>\n",
       "      <td>19.000000</td>\n",
       "      <td>4.800000</td>\n",
       "      <td>100.080000</td>\n",
       "    </tr>\n",
       "  </tbody>\n",
       "</table>\n",
       "</div>"
      ],
      "text/plain": [
       "                                          Temp (C)  Dew Point Temp (C)  \\\n",
       "Weather                                                                  \n",
       "Clear                                     6.825716            0.089367   \n",
       "Cloudy                                    7.970544            2.375810   \n",
       "Drizzle                                   7.353659            5.504878   \n",
       "Drizzle,Fog                               8.067500            7.033750   \n",
       "Drizzle,Ice Pellets,Fog                   0.400000           -0.700000   \n",
       "Drizzle,Snow                              1.050000            0.150000   \n",
       "Drizzle,Snow,Fog                          0.693333            0.120000   \n",
       "Fog                                       4.303333            3.159333   \n",
       "Freezing Drizzle                         -5.657143           -8.000000   \n",
       "Freezing Drizzle,Fog                     -2.533333           -4.183333   \n",
       "Freezing Drizzle,Haze                    -5.433333           -8.000000   \n",
       "Freezing Drizzle,Snow                    -5.109091           -7.072727   \n",
       "Freezing Fog                             -7.575000           -9.250000   \n",
       "Freezing Rain                            -3.885714           -6.078571   \n",
       "Freezing Rain,Fog                        -2.225000           -3.750000   \n",
       "Freezing Rain,Haze                       -4.900000           -7.450000   \n",
       "Freezing Rain,Ice Pellets,Fog            -2.600000           -3.700000   \n",
       "Freezing Rain,Snow Grains                -5.000000           -7.300000   \n",
       "Haze                                     -0.200000           -2.975000   \n",
       "Mainly Clear                             12.558927            4.581671   \n",
       "Moderate Rain,Fog                         1.700000            0.800000   \n",
       "Moderate Snow                            -5.525000           -7.250000   \n",
       "Moderate Snow,Blowing Snow               -5.450000           -6.500000   \n",
       "Mostly Cloudy                            10.574287            3.131174   \n",
       "Rain                                      9.786275            7.042810   \n",
       "Rain Showers                             13.722340            9.187766   \n",
       "Rain Showers,Fog                         12.800000           12.100000   \n",
       "Rain Showers,Snow Showers                 2.150000           -1.500000   \n",
       "Rain,Fog                                  8.273276            7.219828   \n",
       "Rain,Haze                                 4.633333            2.066667   \n",
       "Rain,Ice Pellets                          0.600000           -0.600000   \n",
       "Rain,Snow                                 1.055556           -0.566667   \n",
       "Rain,Snow Grains                          1.900000           -2.100000   \n",
       "Rain,Snow,Fog                             0.800000            0.300000   \n",
       "Rain,Snow,Ice Pellets                     1.100000           -0.175000   \n",
       "Snow                                     -4.524103           -7.623333   \n",
       "Snow Pellets                              0.700000           -6.400000   \n",
       "Snow Showers                             -3.506667           -7.866667   \n",
       "Snow Showers,Fog                        -10.675000          -11.900000   \n",
       "Snow,Blowing Snow                        -5.410526           -7.621053   \n",
       "Snow,Fog                                 -5.075676           -6.364865   \n",
       "Snow,Haze                                -4.020000           -6.860000   \n",
       "Snow,Ice Pellets                         -1.883333           -3.666667   \n",
       "Thunderstorms                            24.150000           19.750000   \n",
       "Thunderstorms,Heavy Rain Showers         10.900000            9.000000   \n",
       "Thunderstorms,Moderate Rain Showers,Fog  19.600000           18.500000   \n",
       "Thunderstorms,Rain                       20.433333           18.533333   \n",
       "Thunderstorms,Rain Showers               20.037500           17.618750   \n",
       "Thunderstorms,Rain Showers,Fog           21.600000           18.700000   \n",
       "Thunderstorms,Rain,Fog                   20.600000           18.600000   \n",
       "\n",
       "                                         Rel Hum (%)  Wind Spd (km/h)  \\\n",
       "Weather                                                                 \n",
       "Clear                                      64.497738        10.557315   \n",
       "Cloudy                                     69.592593        16.127315   \n",
       "Drizzle                                    88.243902        16.097561   \n",
       "Drizzle,Fog                                93.275000        11.862500   \n",
       "Drizzle,Ice Pellets,Fog                    92.000000        20.000000   \n",
       "Drizzle,Snow                               93.500000        14.000000   \n",
       "Drizzle,Snow,Fog                           95.866667        15.533333   \n",
       "Fog                                        92.286667         7.946667   \n",
       "Freezing Drizzle                           83.571429        16.571429   \n",
       "Freezing Drizzle,Fog                       88.500000        17.000000   \n",
       "Freezing Drizzle,Haze                      82.000000        10.333333   \n",
       "Freezing Drizzle,Snow                      86.090909        16.272727   \n",
       "Freezing Fog                               87.750000         4.750000   \n",
       "Freezing Rain                              84.642857        19.214286   \n",
       "Freezing Rain,Fog                          89.500000        15.500000   \n",
       "Freezing Rain,Haze                         82.500000         7.500000   \n",
       "Freezing Rain,Ice Pellets,Fog              92.000000        28.000000   \n",
       "Freezing Rain,Snow Grains                  84.000000        32.000000   \n",
       "Haze                                       81.625000        10.437500   \n",
       "Mainly Clear                               60.667142        14.144824   \n",
       "Moderate Rain,Fog                          94.000000        17.000000   \n",
       "Moderate Snow                              87.750000        33.750000   \n",
       "Moderate Snow,Blowing Snow                 92.500000        40.000000   \n",
       "Mostly Cloudy                              62.102465        15.813920   \n",
       "Rain                                       83.624183        19.254902   \n",
       "Rain Showers                               75.159574        17.132979   \n",
       "Rain Showers,Fog                           96.000000        13.000000   \n",
       "Rain Showers,Snow Showers                  76.500000        22.500000   \n",
       "Rain,Fog                                   93.189655        14.793103   \n",
       "Rain,Haze                                  83.333333        11.666667   \n",
       "Rain,Ice Pellets                           92.000000        24.000000   \n",
       "Rain,Snow                                  89.000000        28.388889   \n",
       "Rain,Snow Grains                           75.000000        26.000000   \n",
       "Rain,Snow,Fog                              96.000000         9.000000   \n",
       "Rain,Snow,Ice Pellets                      91.500000        23.250000   \n",
       "Snow                                       79.307692        20.038462   \n",
       "Snow Pellets                               59.000000        35.000000   \n",
       "Snow Showers                               72.350000        19.233333   \n",
       "Snow Showers,Fog                           90.750000        13.750000   \n",
       "Snow,Blowing Snow                          84.473684        34.842105   \n",
       "Snow,Fog                                   90.675676        17.324324   \n",
       "Snow,Haze                                  80.600000         5.000000   \n",
       "Snow,Ice Pellets                           87.666667        23.833333   \n",
       "Thunderstorms                              77.000000         7.500000   \n",
       "Thunderstorms,Heavy Rain Showers           88.000000         9.000000   \n",
       "Thunderstorms,Moderate Rain Showers,Fog    93.000000        15.000000   \n",
       "Thunderstorms,Rain                         89.000000        15.666667   \n",
       "Thunderstorms,Rain Showers                 86.375000        18.312500   \n",
       "Thunderstorms,Rain Showers,Fog             84.000000        19.666667   \n",
       "Thunderstorms,Rain,Fog                     88.000000        19.000000   \n",
       "\n",
       "                                         Visibility (km)  Stn Press (kPa)  \n",
       "Weather                                                                    \n",
       "Clear                                          30.153243       101.587443  \n",
       "Cloudy                                         26.625752       100.911441  \n",
       "Drizzle                                        17.931707       100.435366  \n",
       "Drizzle,Fog                                     5.257500       100.786625  \n",
       "Drizzle,Ice Pellets,Fog                         4.000000       100.790000  \n",
       "Drizzle,Snow                                   10.500000       100.890000  \n",
       "Drizzle,Snow,Fog                                5.513333        99.281333  \n",
       "Fog                                             6.248000       101.184067  \n",
       "Freezing Drizzle                                9.200000       100.202857  \n",
       "Freezing Drizzle,Fog                            5.266667       100.441667  \n",
       "Freezing Drizzle,Haze                           2.666667       100.316667  \n",
       "Freezing Drizzle,Snow                           5.872727       100.520909  \n",
       "Freezing Fog                                    0.650000       102.320000  \n",
       "Freezing Rain                                   8.242857        99.647143  \n",
       "Freezing Rain,Fog                               7.550000        99.945000  \n",
       "Freezing Rain,Haze                              2.400000       100.375000  \n",
       "Freezing Rain,Ice Pellets,Fog                   8.000000       100.950000  \n",
       "Freezing Rain,Snow Grains                       4.800000        98.560000  \n",
       "Haze                                            7.831250       101.482500  \n",
       "Mainly Clear                                   34.264862       101.248832  \n",
       "Moderate Rain,Fog                               6.400000        99.980000  \n",
       "Moderate Snow                                   0.750000       100.275000  \n",
       "Moderate Snow,Blowing Snow                      0.600000       100.570000  \n",
       "Mostly Cloudy                                  31.253842       101.025288  \n",
       "Rain                                           18.856536       100.233333  \n",
       "Rain Showers                                   22.816489       100.404043  \n",
       "Rain Showers,Fog                                6.400000        99.830000  \n",
       "Rain Showers,Snow Showers                      21.700000       101.100000  \n",
       "Rain,Fog                                        6.873276       100.500862  \n",
       "Rain,Haze                                       6.700000       100.540000  \n",
       "Rain,Ice Pellets                                9.700000       100.120000  \n",
       "Rain,Snow                                      11.672222        99.951111  \n",
       "Rain,Snow Grains                               25.000000       100.600000  \n",
       "Rain,Snow,Fog                                   6.400000       100.730000  \n",
       "Rain,Snow,Ice Pellets                           6.000000       100.105000  \n",
       "Snow                                           11.171795       100.536103  \n",
       "Snow Pellets                                    2.400000        99.700000  \n",
       "Snow Showers                                   20.158333       100.963500  \n",
       "Snow Showers,Fog                                7.025000       101.292500  \n",
       "Snow,Blowing Snow                               4.105263        99.704737  \n",
       "Snow,Fog                                        4.537838       100.688649  \n",
       "Snow,Haze                                       4.640000       100.782000  \n",
       "Snow,Ice Pellets                                7.416667       100.548333  \n",
       "Thunderstorms                                  24.550000       100.230000  \n",
       "Thunderstorms,Heavy Rain Showers                2.400000       100.260000  \n",
       "Thunderstorms,Moderate Rain Showers,Fog         3.200000       100.010000  \n",
       "Thunderstorms,Rain                             19.833333       100.420000  \n",
       "Thunderstorms,Rain Showers                     15.893750       100.233750  \n",
       "Thunderstorms,Rain Showers,Fog                  9.700000       100.063333  \n",
       "Thunderstorms,Rain,Fog                          4.800000       100.080000  "
      ]
     },
     "execution_count": 80,
     "metadata": {},
     "output_type": "execute_result"
    }
   ],
   "source": [
    "mean_temperature_df2 = weather_df.groupby(\"Weather\").agg(np.mean)\n",
    "mean_temperature_df2"
   ]
  },
  {
   "cell_type": "markdown",
   "metadata": {
    "slideshow": {
     "slide_type": "slide"
    }
   },
   "source": [
    "<img src=\"../images/icon/Technical-Stuff.png\" alt=\"Concept-Alert\" style=\"width: 100px;float:left; margin-right:15px\"/>\n",
    "<br /> \n",
    "\n",
    "# Concat, Merge and Join \n",
    "<br/>\n",
    "\n",
    "***\n",
    "There are 3 key ways of combining DataFrames together:\n",
    "\n",
    "- **Concatenation**: Concatenation glues together DataFrames. Keep in mind that dimensions should match along the axis you are concatenating on <br/><br/>\n",
    "- **Merging**: “Merging” two datasets aligns the rows from each based on common attributes or columns<br/><br/>\n",
    "- **Join**: Join is a convenient method for combining the columns of two potentially differently-indexed DataFrames into a single result DataFrame"
   ]
  },
  {
   "cell_type": "markdown",
   "metadata": {
    "slideshow": {
     "slide_type": "subslide"
    }
   },
   "source": [
    "## Concat\n",
    "\n",
    "Many a time, we are required to combine different arrays. So, instead of typing each of their elements manually, you can use array concatenation to handle such tasks easily."
   ]
  },
  {
   "cell_type": "code",
   "execution_count": 48,
   "metadata": {
    "slideshow": {
     "slide_type": "fragment"
    }
   },
   "outputs": [],
   "source": [
    "df1 = pd.DataFrame({\n",
    "    'A': ['A0', 'A1', 'A2', 'A3'],\n",
    "    'B': ['B0', 'B1', 'B2', 'B3'],\n",
    "    'C': ['C0', 'C1', 'C2', 'C3'],\n",
    "    'D': ['D0', 'D1', 'D2', 'D3']\n",
    "}, index=[0, 1, 2, 3])\n",
    "\n",
    "df2 = pd.DataFrame({\n",
    "    'A': ['A4', 'A5', 'A6', 'A7'],\n",
    "    'B': ['B4', 'B5', 'B6', 'B7'],\n",
    "    'C': ['C4', 'C5', 'C6', 'C7'],\n",
    "    'D': ['D4', 'D5', 'D6', 'D7']\n",
    "}, index=[4, 5, 6, 7])\n",
    "\n",
    "df3 = pd.DataFrame({\n",
    "    'A': ['A8', 'A9', 'A10', 'A11'],\n",
    "    'B': ['B8', 'B9', 'B10', 'B11'],\n",
    "    'C': ['C8', 'C9', 'C10', 'C11'],\n",
    "    'E': ['D8', 'D9', 'D10', 'D11']\n",
    "}, index=[8, 9, 10, 11])"
   ]
  },
  {
   "cell_type": "markdown",
   "metadata": {},
   "source": [
    "### Instructions\n",
    "* Three dataframes already defined for you\n",
    "* Concat 3 dataframes i.e `df1`,`df2`,`df3` along rows"
   ]
  },
  {
   "cell_type": "code",
   "execution_count": 49,
   "metadata": {
    "slideshow": {
     "slide_type": "subslide"
    }
   },
   "outputs": [
    {
     "data": {
      "text/html": [
       "<div>\n",
       "<style scoped>\n",
       "    .dataframe tbody tr th:only-of-type {\n",
       "        vertical-align: middle;\n",
       "    }\n",
       "\n",
       "    .dataframe tbody tr th {\n",
       "        vertical-align: top;\n",
       "    }\n",
       "\n",
       "    .dataframe thead th {\n",
       "        text-align: right;\n",
       "    }\n",
       "</style>\n",
       "<table border=\"1\" class=\"dataframe\">\n",
       "  <thead>\n",
       "    <tr style=\"text-align: right;\">\n",
       "      <th></th>\n",
       "      <th>A</th>\n",
       "      <th>B</th>\n",
       "      <th>C</th>\n",
       "      <th>D</th>\n",
       "    </tr>\n",
       "  </thead>\n",
       "  <tbody>\n",
       "    <tr>\n",
       "      <th>0</th>\n",
       "      <td>A0</td>\n",
       "      <td>B0</td>\n",
       "      <td>C0</td>\n",
       "      <td>D0</td>\n",
       "    </tr>\n",
       "    <tr>\n",
       "      <th>1</th>\n",
       "      <td>A1</td>\n",
       "      <td>B1</td>\n",
       "      <td>C1</td>\n",
       "      <td>D1</td>\n",
       "    </tr>\n",
       "    <tr>\n",
       "      <th>2</th>\n",
       "      <td>A2</td>\n",
       "      <td>B2</td>\n",
       "      <td>C2</td>\n",
       "      <td>D2</td>\n",
       "    </tr>\n",
       "    <tr>\n",
       "      <th>3</th>\n",
       "      <td>A3</td>\n",
       "      <td>B3</td>\n",
       "      <td>C3</td>\n",
       "      <td>D3</td>\n",
       "    </tr>\n",
       "  </tbody>\n",
       "</table>\n",
       "</div>"
      ],
      "text/plain": [
       "    A   B   C   D\n",
       "0  A0  B0  C0  D0\n",
       "1  A1  B1  C1  D1\n",
       "2  A2  B2  C2  D2\n",
       "3  A3  B3  C3  D3"
      ]
     },
     "execution_count": 49,
     "metadata": {},
     "output_type": "execute_result"
    }
   ],
   "source": [
    "# if you don't specify an axis, it defaults to axis=0, which means it appends to rows\n",
    "pd.concat([df1, df2, df3])"
   ]
  },
  {
   "cell_type": "markdown",
   "metadata": {},
   "source": [
    "### Instructions\n",
    "* Concat 3 dataframes i.e `df1`,`df2`,`df3` along columns"
   ]
  },
  {
   "cell_type": "code",
   "execution_count": 97,
   "metadata": {
    "slideshow": {
     "slide_type": "subslide"
    }
   },
   "outputs": [
    {
     "data": {
      "text/html": [
       "<div>\n",
       "<style scoped>\n",
       "    .dataframe tbody tr th:only-of-type {\n",
       "        vertical-align: middle;\n",
       "    }\n",
       "\n",
       "    .dataframe tbody tr th {\n",
       "        vertical-align: top;\n",
       "    }\n",
       "\n",
       "    .dataframe thead th {\n",
       "        text-align: right;\n",
       "    }\n",
       "</style>\n",
       "<table border=\"1\" class=\"dataframe\">\n",
       "  <thead>\n",
       "    <tr style=\"text-align: right;\">\n",
       "      <th></th>\n",
       "      <th>A</th>\n",
       "      <th>B</th>\n",
       "      <th>C</th>\n",
       "      <th>D</th>\n",
       "      <th>x</th>\n",
       "      <th>y</th>\n",
       "      <th>z</th>\n",
       "      <th>A</th>\n",
       "      <th>B</th>\n",
       "      <th>C</th>\n",
       "      <th>E</th>\n",
       "    </tr>\n",
       "  </thead>\n",
       "  <tbody>\n",
       "    <tr>\n",
       "      <th>0</th>\n",
       "      <td>A0</td>\n",
       "      <td>B0</td>\n",
       "      <td>C0</td>\n",
       "      <td>D0</td>\n",
       "      <td>NaN</td>\n",
       "      <td>NaN</td>\n",
       "      <td>NaN</td>\n",
       "      <td>NaN</td>\n",
       "      <td>NaN</td>\n",
       "      <td>NaN</td>\n",
       "      <td>NaN</td>\n",
       "    </tr>\n",
       "    <tr>\n",
       "      <th>1</th>\n",
       "      <td>A1</td>\n",
       "      <td>B1</td>\n",
       "      <td>C1</td>\n",
       "      <td>D1</td>\n",
       "      <td>NaN</td>\n",
       "      <td>NaN</td>\n",
       "      <td>NaN</td>\n",
       "      <td>NaN</td>\n",
       "      <td>NaN</td>\n",
       "      <td>NaN</td>\n",
       "      <td>NaN</td>\n",
       "    </tr>\n",
       "    <tr>\n",
       "      <th>2</th>\n",
       "      <td>A2</td>\n",
       "      <td>B2</td>\n",
       "      <td>C2</td>\n",
       "      <td>D2</td>\n",
       "      <td>NaN</td>\n",
       "      <td>NaN</td>\n",
       "      <td>NaN</td>\n",
       "      <td>NaN</td>\n",
       "      <td>NaN</td>\n",
       "      <td>NaN</td>\n",
       "      <td>NaN</td>\n",
       "    </tr>\n",
       "    <tr>\n",
       "      <th>3</th>\n",
       "      <td>A3</td>\n",
       "      <td>B3</td>\n",
       "      <td>C3</td>\n",
       "      <td>D3</td>\n",
       "      <td>NaN</td>\n",
       "      <td>NaN</td>\n",
       "      <td>NaN</td>\n",
       "      <td>NaN</td>\n",
       "      <td>NaN</td>\n",
       "      <td>NaN</td>\n",
       "      <td>NaN</td>\n",
       "    </tr>\n",
       "    <tr>\n",
       "      <th>a</th>\n",
       "      <td>NaN</td>\n",
       "      <td>NaN</td>\n",
       "      <td>NaN</td>\n",
       "      <td>NaN</td>\n",
       "      <td>1.0</td>\n",
       "      <td>2.0</td>\n",
       "      <td>3.0</td>\n",
       "      <td>NaN</td>\n",
       "      <td>NaN</td>\n",
       "      <td>NaN</td>\n",
       "      <td>NaN</td>\n",
       "    </tr>\n",
       "    <tr>\n",
       "      <th>b</th>\n",
       "      <td>NaN</td>\n",
       "      <td>NaN</td>\n",
       "      <td>NaN</td>\n",
       "      <td>NaN</td>\n",
       "      <td>3.0</td>\n",
       "      <td>4.0</td>\n",
       "      <td>5.0</td>\n",
       "      <td>NaN</td>\n",
       "      <td>NaN</td>\n",
       "      <td>NaN</td>\n",
       "      <td>NaN</td>\n",
       "    </tr>\n",
       "    <tr>\n",
       "      <th>c</th>\n",
       "      <td>NaN</td>\n",
       "      <td>NaN</td>\n",
       "      <td>NaN</td>\n",
       "      <td>NaN</td>\n",
       "      <td>5.0</td>\n",
       "      <td>6.0</td>\n",
       "      <td>7.0</td>\n",
       "      <td>NaN</td>\n",
       "      <td>NaN</td>\n",
       "      <td>NaN</td>\n",
       "      <td>NaN</td>\n",
       "    </tr>\n",
       "    <tr>\n",
       "      <th>d</th>\n",
       "      <td>NaN</td>\n",
       "      <td>NaN</td>\n",
       "      <td>NaN</td>\n",
       "      <td>NaN</td>\n",
       "      <td>7.0</td>\n",
       "      <td>8.0</td>\n",
       "      <td>9.0</td>\n",
       "      <td>NaN</td>\n",
       "      <td>NaN</td>\n",
       "      <td>NaN</td>\n",
       "      <td>NaN</td>\n",
       "    </tr>\n",
       "    <tr>\n",
       "      <th>8</th>\n",
       "      <td>NaN</td>\n",
       "      <td>NaN</td>\n",
       "      <td>NaN</td>\n",
       "      <td>NaN</td>\n",
       "      <td>NaN</td>\n",
       "      <td>NaN</td>\n",
       "      <td>NaN</td>\n",
       "      <td>A8</td>\n",
       "      <td>B8</td>\n",
       "      <td>C8</td>\n",
       "      <td>D8</td>\n",
       "    </tr>\n",
       "    <tr>\n",
       "      <th>9</th>\n",
       "      <td>NaN</td>\n",
       "      <td>NaN</td>\n",
       "      <td>NaN</td>\n",
       "      <td>NaN</td>\n",
       "      <td>NaN</td>\n",
       "      <td>NaN</td>\n",
       "      <td>NaN</td>\n",
       "      <td>A9</td>\n",
       "      <td>B9</td>\n",
       "      <td>C9</td>\n",
       "      <td>D9</td>\n",
       "    </tr>\n",
       "    <tr>\n",
       "      <th>10</th>\n",
       "      <td>NaN</td>\n",
       "      <td>NaN</td>\n",
       "      <td>NaN</td>\n",
       "      <td>NaN</td>\n",
       "      <td>NaN</td>\n",
       "      <td>NaN</td>\n",
       "      <td>NaN</td>\n",
       "      <td>A10</td>\n",
       "      <td>B10</td>\n",
       "      <td>C10</td>\n",
       "      <td>D10</td>\n",
       "    </tr>\n",
       "    <tr>\n",
       "      <th>11</th>\n",
       "      <td>NaN</td>\n",
       "      <td>NaN</td>\n",
       "      <td>NaN</td>\n",
       "      <td>NaN</td>\n",
       "      <td>NaN</td>\n",
       "      <td>NaN</td>\n",
       "      <td>NaN</td>\n",
       "      <td>A11</td>\n",
       "      <td>B11</td>\n",
       "      <td>C11</td>\n",
       "      <td>D11</td>\n",
       "    </tr>\n",
       "  </tbody>\n",
       "</table>\n",
       "</div>"
      ],
      "text/plain": [
       "      A    B    C    D    x    y    z    A    B    C    E\n",
       "0    A0   B0   C0   D0  NaN  NaN  NaN  NaN  NaN  NaN  NaN\n",
       "1    A1   B1   C1   D1  NaN  NaN  NaN  NaN  NaN  NaN  NaN\n",
       "2    A2   B2   C2   D2  NaN  NaN  NaN  NaN  NaN  NaN  NaN\n",
       "3    A3   B3   C3   D3  NaN  NaN  NaN  NaN  NaN  NaN  NaN\n",
       "a   NaN  NaN  NaN  NaN  1.0  2.0  3.0  NaN  NaN  NaN  NaN\n",
       "b   NaN  NaN  NaN  NaN  3.0  4.0  5.0  NaN  NaN  NaN  NaN\n",
       "c   NaN  NaN  NaN  NaN  5.0  6.0  7.0  NaN  NaN  NaN  NaN\n",
       "d   NaN  NaN  NaN  NaN  7.0  8.0  9.0  NaN  NaN  NaN  NaN\n",
       "8   NaN  NaN  NaN  NaN  NaN  NaN  NaN   A8   B8   C8   D8\n",
       "9   NaN  NaN  NaN  NaN  NaN  NaN  NaN   A9   B9   C9   D9\n",
       "10  NaN  NaN  NaN  NaN  NaN  NaN  NaN  A10  B10  C10  D10\n",
       "11  NaN  NaN  NaN  NaN  NaN  NaN  NaN  A11  B11  C11  D11"
      ]
     },
     "execution_count": 97,
     "metadata": {},
     "output_type": "execute_result"
    }
   ],
   "source": [
    "# axis=1 means concat along columns\n",
    "\n",
    "pd.concat([df1, df2, df3], axis=1)"
   ]
  },
  {
   "cell_type": "markdown",
   "metadata": {
    "slideshow": {
     "slide_type": "subslide"
    }
   },
   "source": [
    "## Join\n",
    "***\n",
    "Simply join two DFs having potentially different row indices\n",
    "\n",
    "You can do both inner as well as outer joins using the join function in pandas\n",
    "- Parameters {‘inner’, ‘outer’}, default ‘outer’. Outer for union and inner for intersection."
   ]
  },
  {
   "cell_type": "markdown",
   "metadata": {},
   "source": [
    "### Instructions\n",
    "* Two dataframes i.e `left_df` and `right_df` already defined for you.\n",
    "* Join two dataframes using `.join()` \n",
    "* Since it is an outer join pass `how='outer'` "
   ]
  },
  {
   "cell_type": "code",
   "execution_count": 52,
   "metadata": {
    "slideshow": {
     "slide_type": "fragment"
    }
   },
   "outputs": [
    {
     "data": {
      "text/html": [
       "<div>\n",
       "<style scoped>\n",
       "    .dataframe tbody tr th:only-of-type {\n",
       "        vertical-align: middle;\n",
       "    }\n",
       "\n",
       "    .dataframe tbody tr th {\n",
       "        vertical-align: top;\n",
       "    }\n",
       "\n",
       "    .dataframe thead th {\n",
       "        text-align: right;\n",
       "    }\n",
       "</style>\n",
       "<table border=\"1\" class=\"dataframe\">\n",
       "  <thead>\n",
       "    <tr style=\"text-align: right;\">\n",
       "      <th></th>\n",
       "      <th>A</th>\n",
       "      <th>B</th>\n",
       "      <th>C</th>\n",
       "      <th>D</th>\n",
       "    </tr>\n",
       "  </thead>\n",
       "  <tbody>\n",
       "    <tr>\n",
       "      <th>K0</th>\n",
       "      <td>A0</td>\n",
       "      <td>B0</td>\n",
       "      <td>C0</td>\n",
       "      <td>D0</td>\n",
       "    </tr>\n",
       "    <tr>\n",
       "      <th>K1</th>\n",
       "      <td>A1</td>\n",
       "      <td>B1</td>\n",
       "      <td>NaN</td>\n",
       "      <td>NaN</td>\n",
       "    </tr>\n",
       "    <tr>\n",
       "      <th>K2</th>\n",
       "      <td>A2</td>\n",
       "      <td>B2</td>\n",
       "      <td>C2</td>\n",
       "      <td>D2</td>\n",
       "    </tr>\n",
       "    <tr>\n",
       "      <th>K3</th>\n",
       "      <td>NaN</td>\n",
       "      <td>NaN</td>\n",
       "      <td>C3</td>\n",
       "      <td>D3</td>\n",
       "    </tr>\n",
       "  </tbody>\n",
       "</table>\n",
       "</div>"
      ],
      "text/plain": [
       "      A    B    C    D\n",
       "K0   A0   B0   C0   D0\n",
       "K1   A1   B1  NaN  NaN\n",
       "K2   A2   B2   C2   D2\n",
       "K3  NaN  NaN   C3   D3"
      ]
     },
     "execution_count": 52,
     "metadata": {},
     "output_type": "execute_result"
    }
   ],
   "source": [
    "# Join\n",
    "left_df = pd.DataFrame({\n",
    "    'A': ['A0', 'A1', 'A2'],\n",
    "    'B': ['B0', 'B1', 'B2']\n",
    "}, index=['K0', 'K1', 'K2']) \n",
    "\n",
    "right_df = pd.DataFrame({\n",
    "    'C': ['C0', 'C2', 'C3'],\n",
    "    'D': ['D0', 'D2', 'D3']\n",
    "}, index=['K0', 'K2', 'K3'])\n",
    "\n",
    "left_df.join(right_df, how='outer')"
   ]
  },
  {
   "cell_type": "markdown",
   "metadata": {
    "slideshow": {
     "slide_type": "subslide"
    }
   },
   "source": [
    "## Merge\n",
    "\n",
    "Many a times you will be working with multiple dataframes all at once.\n",
    "\n",
    "The merge function allows them to be combined into a single data frame"
   ]
  },
  {
   "cell_type": "markdown",
   "metadata": {},
   "source": [
    "### Instructions\n",
    "* Two dataframes i.e `left` and `right` is already defined for you.\n",
    "* From the left dataframe i.e. `left` and from the right dataframe i.e `right` you will be taking two columns for merging `key1` and `key2`; so pass them as on=['key1','key2'] inside the .merge() method\n",
    "* Since it is an outer join pass `how='outer'` also"
   ]
  },
  {
   "cell_type": "code",
   "execution_count": 98,
   "metadata": {
    "slideshow": {
     "slide_type": "fragment"
    }
   },
   "outputs": [
    {
     "data": {
      "text/html": [
       "<div>\n",
       "<style scoped>\n",
       "    .dataframe tbody tr th:only-of-type {\n",
       "        vertical-align: middle;\n",
       "    }\n",
       "\n",
       "    .dataframe tbody tr th {\n",
       "        vertical-align: top;\n",
       "    }\n",
       "\n",
       "    .dataframe thead th {\n",
       "        text-align: right;\n",
       "    }\n",
       "</style>\n",
       "<table border=\"1\" class=\"dataframe\">\n",
       "  <thead>\n",
       "    <tr style=\"text-align: right;\">\n",
       "      <th></th>\n",
       "      <th>key1</th>\n",
       "      <th>key2</th>\n",
       "      <th>A</th>\n",
       "      <th>B</th>\n",
       "      <th>C</th>\n",
       "      <th>D</th>\n",
       "    </tr>\n",
       "  </thead>\n",
       "  <tbody>\n",
       "    <tr>\n",
       "      <th>0</th>\n",
       "      <td>K0</td>\n",
       "      <td>K0</td>\n",
       "      <td>A0</td>\n",
       "      <td>B0</td>\n",
       "      <td>C0</td>\n",
       "      <td>D0</td>\n",
       "    </tr>\n",
       "    <tr>\n",
       "      <th>1</th>\n",
       "      <td>K0</td>\n",
       "      <td>K1</td>\n",
       "      <td>A1</td>\n",
       "      <td>B1</td>\n",
       "      <td>NaN</td>\n",
       "      <td>NaN</td>\n",
       "    </tr>\n",
       "    <tr>\n",
       "      <th>2</th>\n",
       "      <td>K1</td>\n",
       "      <td>K0</td>\n",
       "      <td>A2</td>\n",
       "      <td>B2</td>\n",
       "      <td>C1</td>\n",
       "      <td>D1</td>\n",
       "    </tr>\n",
       "    <tr>\n",
       "      <th>3</th>\n",
       "      <td>K1</td>\n",
       "      <td>K0</td>\n",
       "      <td>A2</td>\n",
       "      <td>B2</td>\n",
       "      <td>C2</td>\n",
       "      <td>D2</td>\n",
       "    </tr>\n",
       "    <tr>\n",
       "      <th>4</th>\n",
       "      <td>K2</td>\n",
       "      <td>K1</td>\n",
       "      <td>A3</td>\n",
       "      <td>B3</td>\n",
       "      <td>NaN</td>\n",
       "      <td>NaN</td>\n",
       "    </tr>\n",
       "    <tr>\n",
       "      <th>5</th>\n",
       "      <td>K2</td>\n",
       "      <td>K0</td>\n",
       "      <td>NaN</td>\n",
       "      <td>NaN</td>\n",
       "      <td>C3</td>\n",
       "      <td>D3</td>\n",
       "    </tr>\n",
       "  </tbody>\n",
       "</table>\n",
       "</div>"
      ],
      "text/plain": [
       "  key1 key2    A    B    C    D\n",
       "0   K0   K0   A0   B0   C0   D0\n",
       "1   K0   K1   A1   B1  NaN  NaN\n",
       "2   K1   K0   A2   B2   C1   D1\n",
       "3   K1   K0   A2   B2   C2   D2\n",
       "4   K2   K1   A3   B3  NaN  NaN\n",
       "5   K2   K0  NaN  NaN   C3   D3"
      ]
     },
     "execution_count": 98,
     "metadata": {},
     "output_type": "execute_result"
    }
   ],
   "source": [
    "# Merging on multiple keys\n",
    "left = pd.DataFrame({\n",
    "    'key1': ['K0', 'K0', 'K1', 'K2'],\n",
    "    'key2': ['K0', 'K1', 'K0', 'K1'],\n",
    "    'A': ['A0', 'A1', 'A2', 'A3'],\n",
    "    'B': ['B0', 'B1', 'B2', 'B3']\n",
    "})\n",
    "    \n",
    "right = pd.DataFrame({\n",
    "    'key1': ['K0', 'K1', 'K1', 'K2'],\n",
    "    'key2': ['K0', 'K0', 'K0', 'K0'],\n",
    "    'C': ['C0', 'C1', 'C2', 'C3'],\n",
    "    'D': ['D0', 'D1', 'D2', 'D3']\n",
    "})\n",
    "\n",
    "pd.merge(left, right, how='outer', on=['key1', 'key2'])"
   ]
  },
  {
   "cell_type": "code",
   "execution_count": 99,
   "metadata": {
    "slideshow": {
     "slide_type": "subslide"
    }
   },
   "outputs": [
    {
     "data": {
      "text/html": [
       "<div>\n",
       "<style scoped>\n",
       "    .dataframe tbody tr th:only-of-type {\n",
       "        vertical-align: middle;\n",
       "    }\n",
       "\n",
       "    .dataframe tbody tr th {\n",
       "        vertical-align: top;\n",
       "    }\n",
       "\n",
       "    .dataframe thead th {\n",
       "        text-align: right;\n",
       "    }\n",
       "</style>\n",
       "<table border=\"1\" class=\"dataframe\">\n",
       "  <thead>\n",
       "    <tr style=\"text-align: right;\">\n",
       "      <th></th>\n",
       "      <th>key1</th>\n",
       "      <th>key2</th>\n",
       "      <th>A</th>\n",
       "      <th>B</th>\n",
       "      <th>C</th>\n",
       "      <th>D</th>\n",
       "    </tr>\n",
       "  </thead>\n",
       "  <tbody>\n",
       "    <tr>\n",
       "      <th>0</th>\n",
       "      <td>K0</td>\n",
       "      <td>K0</td>\n",
       "      <td>A0</td>\n",
       "      <td>B0</td>\n",
       "      <td>C0</td>\n",
       "      <td>D0</td>\n",
       "    </tr>\n",
       "    <tr>\n",
       "      <th>1</th>\n",
       "      <td>K0</td>\n",
       "      <td>K1</td>\n",
       "      <td>A1</td>\n",
       "      <td>B1</td>\n",
       "      <td>NaN</td>\n",
       "      <td>NaN</td>\n",
       "    </tr>\n",
       "    <tr>\n",
       "      <th>2</th>\n",
       "      <td>K1</td>\n",
       "      <td>K0</td>\n",
       "      <td>A2</td>\n",
       "      <td>B2</td>\n",
       "      <td>C1</td>\n",
       "      <td>D1</td>\n",
       "    </tr>\n",
       "    <tr>\n",
       "      <th>3</th>\n",
       "      <td>K1</td>\n",
       "      <td>K0</td>\n",
       "      <td>A2</td>\n",
       "      <td>B2</td>\n",
       "      <td>C2</td>\n",
       "      <td>D2</td>\n",
       "    </tr>\n",
       "    <tr>\n",
       "      <th>4</th>\n",
       "      <td>K2</td>\n",
       "      <td>K1</td>\n",
       "      <td>A3</td>\n",
       "      <td>B3</td>\n",
       "      <td>NaN</td>\n",
       "      <td>NaN</td>\n",
       "    </tr>\n",
       "  </tbody>\n",
       "</table>\n",
       "</div>"
      ],
      "text/plain": [
       "  key1 key2   A   B    C    D\n",
       "0   K0   K0  A0  B0   C0   D0\n",
       "1   K0   K1  A1  B1  NaN  NaN\n",
       "2   K1   K0  A2  B2   C1   D1\n",
       "3   K1   K0  A2  B2   C2   D2\n",
       "4   K2   K1  A3  B3  NaN  NaN"
      ]
     },
     "execution_count": 99,
     "metadata": {},
     "output_type": "execute_result"
    }
   ],
   "source": [
    "# other options are 'inner', 'left', 'right'\n",
    "\n",
    "pd.merge(left, right, how='left', on=['key1', 'key2'])"
   ]
  },
  {
   "cell_type": "markdown",
   "metadata": {},
   "source": [
    "## Quiz\n",
    "1. Which of the following statements are true regarding the Series and DataFrames?\n",
    "\n",
    "```python\n",
    "1. Series and DataFrames are the 2 key data structures in Pandas.\n",
    "2. Series act like a 1-D labelled/indexed array.\n",
    "3. Series doesn't allow accessing individual elements through labels.\n",
    "4. A data frame is similar to Excel workbook\n",
    "5. Series is a core data model whereas Data frame is a secondary model for Pandas.\n",
    "Ans:- 1,2,4\n",
    "```\n",
    "2. Which are not a valid statements about the accelerated operations support in Pandas?\n",
    "\n",
    "```python\n",
    "1. Pandas library has support for accelerating certain types of binary numerical and boolean operations.\n",
    "2. Pandas library's ability to support accelerated operations is useful for dealing with large data sets and speed improvements.\n",
    "3. It is required to identify missing data in computations.\n",
    "4. It helps in determining the broadcasting behavior between higher (e.g. DataFrame) and lower-dimensional (e.g. Series) objects.\n",
    "Ans:- 3,4\n",
    "```\n",
    "3. Which of the following Python libraries provides support for data munging?\n",
    "\n",
    "```python\n",
    "1.   NumPy\n",
    "2.   Matplotlib\n",
    "3.   Pandas\n",
    "4.   SciPy\n",
    "Ans:- 3\n",
    "```"
   ]
  },
  {
   "cell_type": "markdown",
   "metadata": {},
   "source": [
    "## Solution for in class activity"
   ]
  },
  {
   "cell_type": "code",
   "execution_count": 2,
   "metadata": {},
   "outputs": [
    {
     "name": "stdout",
     "output_type": "stream",
     "text": [
      "     Team  Rank  Year  Points\n",
      "0  Riders     1  2014     876\n",
      "2  Devils     2  2014     863\n",
      "4   Kings     3  2014     741\n",
      "9  Royals     4  2014     701\n"
     ]
    }
   ],
   "source": [
    "# import the pandas library\n",
    "import pandas as pd\n",
    "\n",
    "ipl_data = {'Team': ['Riders', 'Riders', 'Devils', 'Devils', 'Kings',\n",
    "         'kings', 'Kings', 'Kings', 'Riders', 'Royals', 'Royals', 'Riders'],\n",
    "         'Rank': [1, 2, 2, 3, 3,4 ,1 ,1,2 , 4,1,2],\n",
    "         'Year': [2014,2015,2014,2015,2014,2015,2016,2017,2016,2014,2015,2017],\n",
    "         'Points':[876,789,863,673,741,812,756,788,694,701,804,690]}\n",
    "df = pd.DataFrame(ipl_data)\n",
    "\n",
    "grouped = df.groupby('Year')\n",
    "print(grouped.get_group(2014))"
   ]
  },
  {
   "cell_type": "markdown",
   "metadata": {
    "slideshow": {
     "slide_type": "slide"
    }
   },
   "source": [
    "# Further Reading\n",
    "***\n",
    "- Pandas documentation: http://pandas.pydata.org/\n",
    "- 10 minutes to pandas: https://pandas.pydata.org/pandas-docs/stable/10min.html\n",
    "- Cookbook- Useful Pandas Recipes: https://pandas.pydata.org/pandas-docs/stable/cookbook.html\n",
    "- Pandas and Python Top 10: http://manishamde.github.io/blog/2013/03/07/pandas-and-python-top-10/\n",
    "- Intro to Pandas Data Structures: http://www.gregreda.com/2013/10/26/"
   ]
  },
  {
   "cell_type": "markdown",
   "metadata": {
    "collapsed": true,
    "slideshow": {
     "slide_type": "slide"
    }
   },
   "source": [
    "# Thank You\n",
    "***\n",
    "### Coming up next...\n",
    "***\n",
    "- Visualizing data using `matplotlib`\n",
    "\n"
   ]
  }
 ],
 "metadata": {
  "celltoolbar": "Slideshow",
  "kernelspec": {
   "display_name": "Python 3",
   "language": "python",
   "name": "python3"
  },
  "language_info": {
   "codemirror_mode": {
    "name": "ipython",
    "version": 3
   },
   "file_extension": ".py",
   "mimetype": "text/x-python",
   "name": "python",
   "nbconvert_exporter": "python",
   "pygments_lexer": "ipython3",
   "version": "3.7.1"
  },
  "toc": {
   "colors": {
    "hover_highlight": "#DAA520",
    "running_highlight": "#FF0000",
    "selected_highlight": "#FFD700"
   },
   "moveMenuLeft": true,
   "nav_menu": {
    "height": "364px",
    "width": "252px"
   },
   "navigate_menu": true,
   "number_sections": true,
   "sideBar": true,
   "threshold": "2",
   "toc_cell": false,
   "toc_section_display": "block",
   "toc_window_display": false
  }
 },
 "nbformat": 4,
 "nbformat_minor": 2
}
